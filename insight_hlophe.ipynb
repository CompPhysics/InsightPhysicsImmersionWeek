{
  "nbformat": 4,
  "nbformat_minor": 0,
  "metadata": {
    "colab": {
      "name": "insight_hlophe.ipynb",
      "provenance": [],
      "include_colab_link": true
    },
    "kernelspec": {
      "name": "python3",
      "display_name": "Python 3"
    },
    "language_info": {
      "name": "python"
    }
  },
  "cells": [
    {
      "cell_type": "markdown",
      "metadata": {
        "id": "view-in-github",
        "colab_type": "text"
      },
      "source": [
        "<a href=\"https://colab.research.google.com/github/CompPhysics/InsightPhysicsImmersionWeek/blob/main/insight_hlophe.ipynb\" target=\"_parent\"><img src=\"https://colab.research.google.com/assets/colab-badge.svg\" alt=\"Open In Colab\"/></a>"
      ]
    },
    {
      "cell_type": "markdown",
      "metadata": {
        "id": "AWZaTCNXLMQR"
      },
      "source": [
        "# **Harmonic oscillator**\n",
        "\n",
        "Linda Hlophe\n",
        "\n",
        "June 2021\n",
        "\n",
        "Physics Immersion Week\n",
        "\n",
        "06/25/21\n",
        "\n",
        "\n",
        "## Hookes Law\n",
        "\n",
        "\n",
        "![]\n",
        "For classical systems, the dynamics are governed by Newton's second law:\n",
        "\n",
        "\\begin{equation} \n",
        " force~(\\vec{F}) = mass~(m)~\\times~accelerations~(\\vec{a}).\n",
        "\\end{equation} \n",
        "\n",
        "In one dimenion, the acceleration is given by the second order derivative of position with repsect to time\n",
        "\n",
        "$$ a = \\frac{d^2x}{dt^2}.$$\n",
        "\n",
        "Consider a mass ($m$) attached to a spring with constant $k$, oscillating in one dimension with natural length $x_0$. The force is given by Hooke's law \n",
        "\n",
        "\\begin{equation} \n",
        " F(x) = -kx.\n",
        "\\end{equation} \n",
        "\n",
        "Substituting the expressions for the acceleration and the force into Newton's second law gives \n",
        "\\begin{equation} \n",
        "  m\\frac{d^2x}{dt^2} = -k(x-x_0).\n",
        "\\end{equation} \n",
        "\n",
        "## Solving the equation of motion\n",
        "\n",
        "Introducing an angular frequency \n",
        "\n",
        "\\begin{equation}\n",
        "  \\omega =\\sqrt{k/m},\n",
        "\\end{equation}                  \n",
        "\n",
        "we can write the equation of motion in the form\n",
        "\n",
        "\\begin{equation}\n",
        "  \\frac{d^2x}{dt^2} = -\\omega^2 (x-x_0).\n",
        "\\end{equation}  \n",
        "\n",
        "The general solution of the above differential equation is given by\n",
        "\n",
        "$$ x(t) = A\\sin(\\omega t)+B\\cos(\\omega t).$$\n",
        "\n",
        "The potential energy $V$ of a perfect harmonic oscillator given by an integral over the force\n",
        "\\begin{eqnarray}\n",
        " V(x)&=& -\\int F(x)dx,\\cr\\\n",
        "     &=&~\\frac{1}{2}k(x-x_0)^2. \n",
        "\\end{eqnarray}     \n",
        "\n",
        "\n",
        "## Harmonic oscillator approximation for generic potenials\n",
        "\n",
        "Generally, the potential energy is a complicated function of the distance. Still, at short distances we can perform a taylor expansion around the minimum $x_0$\n",
        "\n",
        "$$ V(x) = V(x_0)+(x-x_0)~\\frac{dV}{dx}\\Big\\vert_{x=x_0} +\\frac{1}{2}(x-x_0)^2~\\frac{d^2V}{dx^2}\\Big\\vert_{x=x_0}+~...$$\n",
        "\n",
        "By defition $\\frac{dV}{dx}\\Big\\vert_{x=x_0}=0$ since $x_0$ is the minimum. The first (constant) term does not affect the force since the force is given by a derivative of the potential. In the vicinity of $x_0$ higher order terms vanish so that\n",
        "\n",
        "\\begin{eqnarray}\n",
        " V(x)=\\frac{1}{2}(x-x_0)^2~\\frac{d^2V}{dx^2}\\Big\\vert_{x=x_0}.\n",
        " \\end{eqnarray}\n",
        "\n",
        "By comparing to the expression for the perfect oscillator, we find that the frequency is related to the constant through\n",
        "\n",
        "$$ k=\\frac{d^2V}{dx^2}\\Big\\vert_{x=x_0}.$$ If the coordinates are chosen so that $x_0=0$ and using the relation of the constant to the frequency\n",
        "\n",
        "$$ k= m\\omega^2,$$ \n",
        "\n",
        "the potential energy takes the form\n",
        "\n",
        "\\begin{eqnarray}\n",
        " V(x)=\\frac{1}{2}m\\omega^2x^2.\n",
        " \\end{eqnarray}\n",
        "\n",
        " The total energy of the oscillator is thus given by the Hamiltonian\n",
        "\n",
        "\\begin{eqnarray}\n",
        " E&=&H,\\cr\n",
        "   &=&\\frac{p^2}{2m}+V(x),\\cr\n",
        "   &=&\\frac{p^2}{2m}+\\frac{1}{2}m\\omega^2x^2,\n",
        " \\end{eqnarray}\n",
        "\n",
        "where the $p$ is the momentum.\n",
        "\n",
        " At this point, the standard approach to quantazation can be applied, by replacing the classical momentum by the correspondign quantum-mechanical operator $p^2\\rightarrow -\\frac{\\hbar^2}{2m}\\frac{d^2}{dx^2}$, so that Hamiltionian becomes a second-order differential operator \n",
        "\n",
        "\\begin{eqnarray}\n",
        " H&=&-\\frac{\\hbar^2}{2m}\\frac{d^2}{dx^2}+\\frac{1}{2}m\\omega^2x^2.\n",
        " \\end{eqnarray}\n",
        "\n",
        "The quantum-mechanical solution is a wavefunction given as the solution to the eigenvalue equation\n",
        "\n",
        "\\begin{eqnarray}\n",
        " H\\psi&=&E\\psi,\\cr\n",
        "\\end{eqnarray} \n",
        "\n",
        "or \n",
        "\n",
        "\\begin{eqnarray}\n",
        " \\left(-\\frac{\\hbar^2}{2m}\\frac{d^2}{dx^2}+\\frac{1}{2}m\\omega^2x^2\\right)\\psi&=&E\\psi.\\cr\n",
        "\\end{eqnarray} \n"
      ]
    },
    {
      "cell_type": "markdown",
      "metadata": {
        "id": "CI6V1uLtZTs8"
      },
      "source": [
        ""
      ]
    },
    {
      "cell_type": "code",
      "metadata": {
        "id": "amzMfdl3YdEi"
      },
      "source": [
        ""
      ],
      "execution_count": 30,
      "outputs": []
    },
    {
      "cell_type": "code",
      "metadata": {
        "id": "tWF8UD2gYDme"
      },
      "source": [
        ""
      ],
      "execution_count": 30,
      "outputs": []
    },
    {
      "cell_type": "code",
      "metadata": {
        "id": "127IvFdjN-b-"
      },
      "source": [
        "# Setting up the import statements for the relevant libraries. \n",
        "# Numpy is imported so we can use arrays, math is needed for a couple\n",
        "# math functions, and matplotlib is needed for graphing.\n",
        "\n",
        "import numpy as np\n",
        "from math import *\n",
        "import matplotlib.pyplot as plt"
      ],
      "execution_count": 31,
      "outputs": []
    },
    {
      "cell_type": "markdown",
      "metadata": {
        "id": "K6x2dG6AZxhm"
      },
      "source": [
        ""
      ]
    },
    {
      "cell_type": "code",
      "metadata": {
        "id": "amC0k-jCOND7"
      },
      "source": [
        "#The classical harmonic oscillator obeys Hookes' Law\n",
        "\n",
        "g = 9.80655 #m/s^2 g to 6 leading digits after decimal point\n",
        "D = 0.00245 #m/s\n",
        "m = 0.2 # kg"
      ],
      "execution_count": 32,
      "outputs": []
    },
    {
      "cell_type": "code",
      "metadata": {
        "id": "soyGlu78OSQH"
      },
      "source": [
        "# Define Gravitational force as a vector in x and y. It is a constant.\n",
        "# Here we are using a 1D array of length two to represent a point in the\n",
        "# xy coordinate plane. The first coordinate is the x direction and the\n",
        "# second is the y direction.  This equation says that the near-Earth\n",
        "# gravitational force will be pointing downwards in only the y direction,\n",
        "# which lines up with what we would expect.\n",
        "\n",
        "G = -m*g*np.array([0.0,1])  "
      ],
      "execution_count": 33,
      "outputs": []
    },
    {
      "cell_type": "code",
      "metadata": {
        "id": "T0zHN5m9OUtJ"
      },
      "source": [
        "\n",
        "DeltaT = 0.01\n",
        "tfinal = 2.0\n",
        "n = ceil(tfinal/DeltaT)"
      ],
      "execution_count": 34,
      "outputs": []
    },
    {
      "cell_type": "code",
      "metadata": {
        "id": "KCpU7ZqmOXEa"
      },
      "source": [
        "# set up arrays for t, a, v, and x\n",
        "t = np.zeros(n)\n",
        "v = np.zeros((n,2))\n",
        "r = np.zeros((n,2))"
      ],
      "execution_count": 35,
      "outputs": []
    },
    {
      "cell_type": "code",
      "metadata": {
        "id": "w6ejcJyaOZtF"
      },
      "source": [
        "# Initial conditions as compact 2-dimensional arrays\n",
        "r0 = np.array([0.0,0.0])\n",
        "v0 = np.array([10.0,10.0])\n",
        "r[0] = r0\n",
        "v[0] = v0"
      ],
      "execution_count": 36,
      "outputs": []
    },
    {
      "cell_type": "code",
      "metadata": {
        "id": "ezgQoIasOcea"
      },
      "source": [
        "# Start integrating using Euler's method\n",
        "for i in range(n-1):\n",
        "    # Set up forces, air resistance FD, not now that we need the norm of the vector\n",
        "    # Here you could have defined your own function for this\n",
        "    vabs = sqrt(sum(v[i]*v[i]))\n",
        "    FD = -D*v[i]*vabs\n",
        "    # Final net forces acting on falling object\n",
        "    Fnet = FD+G\n",
        "    # The accelration at a given time t_i\n",
        "    a = Fnet/m\n",
        "    # update velocity, time and position using Euler's method\n",
        "    v[i+1] = v[i] + DeltaT*a\n",
        "    r[i+1] = r[i] + DeltaT*v[i]\n",
        "    t[i+1] = t[i] + DeltaT"
      ],
      "execution_count": 37,
      "outputs": []
    },
    {
      "cell_type": "code",
      "metadata": {
        "colab": {
          "base_uri": "https://localhost:8080/",
          "height": 297
        },
        "id": "GV2AhjIPNZf5",
        "outputId": "66944a9f-dfa1-468b-d037-66e3324e47dd"
      },
      "source": [
        "fig, axs = plt.subplots(4, 1)\n",
        "axs[0].plot(t, r[:,1])\n",
        "axs[0].set_xlim(0, tfinal)\n",
        "axs[0].set_ylabel('y')\n",
        "axs[1].plot(t, v[:,1])\n",
        "axs[1].set_ylabel('vy[m/s]')\n",
        "axs[1].set_xlabel('time[s]')\n",
        "axs[2].plot(t, r[:,0])\n",
        "axs[2].set_xlim(0, tfinal)\n",
        "axs[2].set_ylabel('x')\n",
        "axs[3].plot(t, v[:,0])\n",
        "axs[3].set_ylabel('vx[m/s]')\n",
        "axs[3].set_xlabel('time[s]')\n",
        "\n",
        "# tight_layout is a function we are applying to the entire figure.  It\n",
        "# just makes the figure look nicer and improves the layout.  Try it making\n",
        "# the graph with and without this line (just comment it out) to see which\n",
        "# version you like best.\n",
        "fig.tight_layout()\n"
      ],
      "execution_count": 38,
      "outputs": [
        {
          "output_type": "display_data",
          "data": {
            "image/png": "[encoded data removed]",
            "text/plain": [
              "<Figure size 432x288 with 4 Axes>"
            ]
          },
          "metadata": {
            "tags": [],
            "needs_background": "light"
          }
        }
      ]
    },
    {
      "cell_type": "code",
      "metadata": {
        "id": "plbLmtBFOY06"
      },
      "source": [
        ""
      ],
      "execution_count": 38,
      "outputs": []
    },
    {
      "cell_type": "code",
      "metadata": {
        "id": "03dZt50GNae1"
      },
      "source": [
        ""
      ],
      "execution_count": 38,
      "outputs": []
    }
  ]
}