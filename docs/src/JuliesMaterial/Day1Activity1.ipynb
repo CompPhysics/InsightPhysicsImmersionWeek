{
 "cells": [
  {
   "cell_type": "markdown",
   "metadata": {},
   "source": [
    "# Physics Immersion Week Day 1 Group Activity\n",
    "\n",
    "## Computational Model of the Earth-Sun System Using the Velocity-Verlet Method\n",
    "\n",
    "Complete the following coding activity as a group.  Everyone should write their own code but you can work together to figure out the questions.\n",
    "\n",
    "\n",
    "If you want to use this notebook in Google Colab click [this link](https://drive.google.com/file/d/1p--rhlGFw3e6iv2msVG8KDzAtt7iH80v/view?usp=sharing) (make sure you are logged into your Google account).  Once the webpage opens up click `File > Save copy a in Drive'.  Then go to your own Google Drive account and use the copy.\n"
   ]
  },
  {
   "cell_type": "markdown",
   "metadata": {},
   "source": [
    "## Before you begin coding, answer these questions\n",
    "1. Find numerical values for the following: the gravitational constant (G), the mass of the Earth, the mass of the Sun, the average distance the Earth is from the Sun, the average velocity around which the Earth orbits the Sun.  Make sure all your answers are in SI units.\n",
    "2. Based on the units in the above constants, what time units are we using (i.e., seconds, minutes, ...)?\n",
    "3. What shape is an orbit?\n",
    "4. What types of energies should be in the Earth-Sun system?  Write down equations for each of them (you can look these up if you need to).\n",
    "5. Should the energy of the Earth be conserved?  Why or why not?"
   ]
  },
  {
   "cell_type": "markdown",
   "metadata": {},
   "source": [
    "Using the standard imports"
   ]
  },
  {
   "cell_type": "code",
   "execution_count": null,
   "metadata": {},
   "outputs": [],
   "source": [
    "import numpy as np\n",
    "from math import *\n",
    "import matplotlib.pyplot as plt"
   ]
  },
  {
   "cell_type": "markdown",
   "metadata": {},
   "source": [
    "Add in the constants you found in the above questions.  Note it may be helpful to add a comment after each with the units attached to the number."
   ]
  },
  {
   "cell_type": "code",
   "execution_count": null,
   "metadata": {},
   "outputs": [],
   "source": [
    "G = # ADD ANSWER HERE\n",
    "mEarth = # ADD ANSWER HERE\n",
    "mSun = # ADD ANSWER HERE\n",
    "r_start = # ADD ANSWER HERE\n",
    "v_start = # ADD ANSWER HERE"
   ]
  },
  {
   "cell_type": "markdown",
   "metadata": {},
   "source": [
    "We are setting up the integration points a little differently than the last example.  Here we are telling Python how many integration points we want and letting it calculate the $\\Delta$t value.  The final time needs to be inserted below.  You can use any amount of time you want but we want the Earth to make at least one full orbit around the Sun.  Remember what your time units are!"
   ]
  },
  {
   "cell_type": "code",
   "execution_count": null,
   "metadata": {},
   "outputs": [],
   "source": [
    "n = 1000\n",
    "#set up arrays \n",
    "tfinal = # ADD ANSWER HERE\n",
    "DeltaT = tfinal/n"
   ]
  },
  {
   "cell_type": "markdown",
   "metadata": {},
   "source": [
    "Setting up the arrays that will hold our data."
   ]
  },
  {
   "cell_type": "code",
   "execution_count": null,
   "metadata": {},
   "outputs": [],
   "source": [
    "# set up arrays for t, a, v, and x\n",
    "t = np.zeros(n)\n",
    "v = np.zeros((n,2))\n",
    "r = np.zeros((n,2))"
   ]
  },
  {
   "cell_type": "markdown",
   "metadata": {},
   "source": [
    "Setting up the initial conditions"
   ]
  },
  {
   "cell_type": "code",
   "execution_count": null,
   "metadata": {},
   "outputs": [],
   "source": [
    "# Initial conditions as compact 2-dimensional arrays\n",
    "r0 = np.array([r_start,0.0])\n",
    "v0 = np.array([0.0,v_start])\n",
    "r[0] = r0\n",
    "v[0] = v0"
   ]
  },
  {
   "cell_type": "markdown",
   "metadata": {},
   "source": [
    "Complete the calculation loop by adding in the Velocity-Verlet equations.  Hint: The lecture notes from today and Pre-Course Notebook 4 may be helpful!"
   ]
  },
  {
   "cell_type": "code",
   "execution_count": null,
   "metadata": {},
   "outputs": [],
   "source": [
    "# Start integrating using the Velocity-Verlet  method\n",
    "for i in range(n-1):\n",
    "    #EXERCISE: Try to figure out what this line of code does. \n",
    "    rabs = np.sqrt(sum(r[i]*r[i]))\n",
    "    a =  -G*mSun*r[i]/(rabs**3)\n",
    "    # update velocity, time and position using the Velocity-Verlet method\n",
    "    \n",
    "    r[i+1] = # ADD ANSWER HERE\n",
    "    \n",
    "    rabs = np.sqrt(sum(r[i+1]*r[i+1]))\n",
    "    anew = -G*mSun*r[i+1]/(rabs**3)\n",
    "    \n",
    "    v[i+1] = # ADD ANSWER HERE\n",
    "    \n",
    "    t[i+1] = t[i] + DeltaT"
   ]
  },
  {
   "cell_type": "markdown",
   "metadata": {},
   "source": [
    "Edit the code cell below to extract the x position data, the y position data, the x velocity data, and the y velocity data.  Hint: there is a very similar code cell in Pre-Course Notebook 4!"
   ]
  },
  {
   "cell_type": "code",
   "execution_count": null,
   "metadata": {},
   "outputs": [],
   "source": [
    "x_position = r[# ADD ANSWER HERE]\n",
    "y_position = r[# ADD ANSWER HERE]\n",
    "\n",
    "x_velocity = r[# ADD ANSWER HERE]\n",
    "y_velocity = r[# ADD ANSWER HERE]"
   ]
  },
  {
   "cell_type": "markdown",
   "metadata": {},
   "source": [
    "In the code cell below use matplotlib to create a graph with the x position of the Earth on the x axis and the y position of the earth on the y axis.  \n",
    "* What is the significance of this plot?  What should it look like?\n",
    "* Does the graph match your prediction?"
   ]
  },
  {
   "cell_type": "code",
   "execution_count": null,
   "metadata": {},
   "outputs": [],
   "source": []
  },
  {
   "cell_type": "markdown",
   "metadata": {},
   "source": [
    "In the code cell below calculate the total energy of the Earth during its orbital motion.  Print the energy for each integration step and make a graph with time on the x-axis and total energy on the y-axis.\n",
    "* Based on your graph is energy conserved?  Is this the answer you predicted at the beginning?"
   ]
  },
  {
   "cell_type": "code",
   "execution_count": null,
   "metadata": {},
   "outputs": [],
   "source": []
  },
  {
   "cell_type": "markdown",
   "metadata": {},
   "source": [
    "## Bonus Activity 1: Coulomb Force\n",
    "\n",
    "The force between two charged objects, the Coloumb force, can be written as:\n",
    "\n",
    "$$\\vec{F}_C(\\vec{r}) = \\frac{1}{4 \\pi \\epsilon_0}\\frac{q_1q_2}{|\\vec{r}_1 - \\vec{r}_2|^2}\\hat{r}_{12}$$\n",
    "\n",
    "where 1/4$\\pi \\epsilon_0$ is a constant with a value of 9e9 Nm$^2$/C$^2$ and q represents the charge of an object in Coloumbs (C).  Note that this equation is very similar to the equation for gravity we have been using!\n",
    "\n",
    "In the code cell below write a Velocity-Verlet method that will model two electrons which start out near each other.  You can copy and paste bits of code from above but remember to change the values to represent two electrons (i.e., charges instead of masses and you will want to use a smaller length and time scale). Create a plot with x-position on the x-axis and y-position on the y-axis.  What kind of shape do you get?"
   ]
  },
  {
   "cell_type": "code",
   "execution_count": null,
   "metadata": {},
   "outputs": [],
   "source": []
  },
  {
   "cell_type": "markdown",
   "metadata": {},
   "source": [
    "## Bonus Activity 2: Lennard-Jones Potential\n",
    "\n",
    "The [Lennard-Jones potential](https://en.wikipedia.org/wiki/Lennard-Jones_potential) models the potential between a pair of atoms or a pair of molecules.  You can express the Lennard-Jones potential using the following equation:\n",
    "\n",
    "$$V_{LJ}(r) = 4\\epsilon [(\\frac{\\sigma}{r})^{12} - (\\frac{\\sigma}{r})^6].$$\n",
    "\n",
    "In the above equation r is the distance between the atoms/molecules, $\\epsilon$ is known as the \"dispersion energy\" and $\\sigma$ is the distance the aroms/molecules need to be separated for the potential to be zero.\n",
    "\n",
    "1. This question gives you a potential but all of the equation deal with forces.  What equation(s) relate potential and force?  Convert the Leonard-Jones potential into a force.\n",
    "2. In the code cell below write a Velocity-Verlet method that will model two atoms which start out near each other.  Pick time scales and distances that would make sense on the atomic level.  Try several different combinations of values for $\\epsilon$ and $\\sigma$.  For each combination create a plot with x-position on the x-axis and y-position on the y-axis.  What kind of shape do you get?\n"
   ]
  },
  {
   "cell_type": "code",
   "execution_count": null,
   "metadata": {},
   "outputs": [],
   "source": []
  }
 ],
 "metadata": {
  "kernelspec": {
   "display_name": "Python 3",
   "language": "python",
   "name": "python3"
  },
  "language_info": {
   "codemirror_mode": {
    "name": "ipython",
    "version": 3
   },
   "file_extension": ".py",
   "mimetype": "text/x-python",
   "name": "python",
   "nbconvert_exporter": "python",
   "pygments_lexer": "ipython3",
   "version": "3.9.2"
  }
 },
 "nbformat": 4,
 "nbformat_minor": 4
}
