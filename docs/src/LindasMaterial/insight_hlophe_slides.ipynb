{
  "nbformat": 4,
  "nbformat_minor": 0,
  "metadata": {
    "colab": {
      "name": "insight_hlophe.ipynb",
      "provenance": [],
      "include_colab_link": true
    },
    "kernelspec": {
      "name": "python3",
      "display_name": "Python 3"
    },
    "language_info": {
      "name": "python"
    }
  },
  "cells": [
    {
      "cell_type": "markdown",
      "metadata": {
        "id": "view-in-github",
        "colab_type": "text"
      },
      "source": [
        "<a href=\"https://colab.research.google.com/github/CompPhysics/InsightPhysicsImmersionWeek/blob/main/docs/src/LindasMaterial/insight_hlophe_slides.ipynb\" target=\"_parent\"><img src=\"https://colab.research.google.com/assets/colab-badge.svg\" alt=\"Open In Colab\"/></a>"
      ]
    },
    {
      "cell_type": "markdown",
      "metadata": {
        "id": "AWZaTCNXLMQR"
      },
      "source": [
        "# **Harmonic oscillator potential**\n",
        "\n",
        "Linda Hlophe\n",
        "\n",
        "June 2021\n",
        "\n",
        "Physics Immersion Week\n",
        "\n",
        "06/25/21\n",
        "\n",
        "\n",
        "## **Equation of motion**\n",
        "\n",
        "![ho_gif](https://github.com/CompPhysics/InsightPhysicsImmersionWeek/blob/main/docs/src/LindasMaterial/insight_ho.gif?raw=1)\n",
        "For classical systems, the dynamics are governed by Newton's second law:\n",
        "\n",
        "\\begin{equation} \n",
        " \\text{Force}~\\left(\\vec{F}\\right) = \\text{mass}~(m)~\\times~\\text{accelerations}~\\left(\\vec{a}\\right).\n",
        "\\end{equation} \n",
        "\n",
        "In one dimenion, the acceleration is given by the second order derivative of position with repsect to time\n",
        "\n",
        "$$ a = \\frac{d^2x}{dt^2}.$$\n",
        "\n",
        "Consider, for example, a mass ($m$) attached to a spring with constant $k$, oscillating in one dimension about its **natural length** where the potential energy is minimal. From the expression of the acceleration and Newton's second law the equation of motion in the form\n",
        "\n",
        "$$ \\frac{d^2x}{dt^2}=F(x)/m.$$\n",
        "\n",
        "If the explcit form of the force is known, the task is redcued solving a second order differential equation, which can be realized using the *linear algebra* techniques introduced in previous lectures. The derivation of the expression for the harmonic oscillator force is presented in the subsequent section.\n",
        "\n",
        "## **Derivation of the force: Hook's law**\n",
        "\n",
        "In this section we derive Hooke's law and show that for small oscillations around the minimum of the potential (i.e. x=0), the force has the simple form\n",
        "\n",
        "\\begin{equation} \n",
        " F(x) = -kx,\n",
        "\\end{equation} \n",
        "\n",
        "Generally, the potential energy is a complicated function of the distance. However, for small oscillations around the natural length of the spring (i.e., at the minimum of the kinetic energy) we can perform a taylor expansion around the $x=0$,\n",
        "\n",
        "$$ V(x) = V(0)+x~\\left(\\frac{dV}{dx}\\Big\\vert_{x=0}\\right) +\\frac{1}{2} x^2\\left(\\frac{d^2V}{dx^2}\\Big\\vert_{x=0}\\right)+~...$$\n",
        "\n",
        "By defition $\\frac{dV}{dx}\\Big\\vert_{x=0}=0$ since $x=0$ is the minimum. The first (constant) term does not affect the force since the force is given by a derivative of the potential. In the vicinity of $x_0$ higher order terms vanish so that\n",
        "\n",
        "\\begin{eqnarray}\n",
        " V(x)=\\frac{1}{2}x^2~\\frac{d^2V}{dx^2}\\Big\\vert_{x=0}.\n",
        " \\end{eqnarray}\n",
        "\n",
        "If we define the constant $$k\\equiv \\frac{d^2V}{dx^2}\\Big\\vert_{x=0},$$ the potential can be cast in the form  \n",
        "\n",
        "$$ V(x)=\\frac{1}{2}kx^2.$$\n",
        "\n",
        "We recall that the force is proportional to the first derivative of the potential energy\n",
        "\n",
        "\\begin{eqnarray}\n",
        " F(x)&=&-\\frac{dV}{dx} = -kx.\n",
        "\\end{eqnarray}\n",
        "\n",
        "The acceleration appearing on the right-hand-side of the equation of motion is thus given by\n",
        "\n",
        "\\begin{eqnarray}\n",
        " a&=&F(x)/m =-(k/m)~x\n",
        " \\end{eqnarray}\n",
        "\n",
        "Introducing the angular frequency $\\omega\\equiv \\sqrt{k/m}$, the potential and acceleration take the forms\n",
        "$$ V(x)=\\frac{1}{2}m\\omega^2x^2,$$\n",
        "\n",
        "and \n",
        "\n",
        "$$a=-\\omega^2 x.$$\n",
        "\n",
        "## **Solution to the equation of motion**\n",
        "\n",
        "Substituting the expressions for the acceleration and the force into Newton's second law gives \n",
        "\n",
        "\n",
        "\\begin{equation}\n",
        "  \\frac{d^2x}{dt^2} = -\\omega^2 x.\n",
        "\\end{equation}  \n",
        "\n",
        "The general solution of the above differential equation is given by\n",
        "\n",
        "$$ x(t) = A\\sin(\\omega t)+B\\cos(\\omega t).$$\n",
        "\n",
        "\n",
        "## **Hamiltonian and connection to quantum mechanics**\n",
        "\n",
        " The total energy of the oscillator is thus given by the Hamiltonian\n",
        "\n",
        "\\begin{eqnarray}\n",
        " E&=&H,\\cr\n",
        "   &=&\\frac{p^2}{2m}+V(x),\\cr\n",
        "   &=&\\frac{p^2}{2m}+\\frac{1}{2}m\\omega^2x^2,\n",
        " \\end{eqnarray}\n",
        "\n",
        "where the $p$ is the momentum.\n",
        "\n",
        " At this point, the standard approach to quantazation can be applied, by replacing the classical momentum by the correspondign quantum-mechanical operator $p^2\\rightarrow -\\frac{\\hbar^2}{2m}\\frac{d^2}{dx^2}$, so that Hamiltionian becomes a second-order differential operator \n",
        "\n",
        "\\begin{eqnarray}\n",
        " H&=&-\\frac{\\hbar^2}{2m}\\frac{d^2}{dx^2}+\\frac{1}{2}m\\omega^2x^2.\n",
        " \\end{eqnarray}\n",
        "\n",
        "The quantum-mechanical solution is a wavefunction given as the solution to the **eigenvalue equation**\n",
        "\n",
        "\\begin{eqnarray}\n",
        " H\\psi&=&E\\psi,\\cr\n",
        "\\end{eqnarray} \n",
        "\n",
        "or \n",
        "\n",
        "\\begin{eqnarray}\n",
        " \\left(-\\frac{\\hbar^2}{2m}\\frac{d^2}{dx^2}+\\frac{1}{2}m\\omega^2x^2\\right)\\psi&=&E\\psi.\\cr\n",
        "\\end{eqnarray} \n"
      ]
    },
    {
      "cell_type": "markdown",
      "metadata": {
        "id": "VWkWF1v_DW98"
      },
      "source": [
        "## equation\n",
        "\n"
      ]
    },
    {
      "cell_type": "markdown",
      "metadata": {
        "id": "oNxHuefiDEyk"
      },
      "source": [
        ""
      ]
    },
    {
      "cell_type": "markdown",
      "metadata": {
        "id": "CI6V1uLtZTs8"
      },
      "source": [
        ""
      ]
    },
    {
      "cell_type": "markdown",
      "metadata": {
        "id": "K6x2dG6AZxhm"
      },
      "source": [
        ""
      ]
    },
    {
      "cell_type": "code",
      "metadata": {
        "id": "plbLmtBFOY06"
      },
      "source": [
        ""
      ],
      "execution_count": null,
      "outputs": []
    },
    {
      "cell_type": "code",
      "metadata": {
        "id": "03dZt50GNae1"
      },
      "source": [
        ""
      ],
      "execution_count": null,
      "outputs": []
    }
  ]
}