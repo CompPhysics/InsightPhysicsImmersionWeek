{
 "cells": [
  {
   "cell_type": "markdown",
   "metadata": {},
   "source": [
    "## Main Quantum Mechanics Concepts\n",
    "\n",
    "1. We need waves to describe particles\n",
    "2. Some physicsal properties are quantized\n",
    "3. Quantum systems have inherent uncertainity\n",
    "\n",
    "## The Two Formulations of Quantum Mechanics\n",
    "* Quantum mechanics can be written and formulated in two different ways: \n",
    "    * \"Wave Mechanics\" which based on differential equations and integrals \n",
    "    * \"Matrix Mechanics\" which is based on linear algebra\n",
    "    * Both are equivalent but matrix mechanics since its based on matrices and vectors is better suited for computational implementatiomns\n",
    "\n"
   ]
  },
  {
   "cell_type": "markdown",
   "metadata": {},
   "source": [
    "# Two-Slit Experiment\n",
    "\n"
   ]
  },
  {
   "cell_type": "markdown",
   "metadata": {},
   "source": [
    "## The Break-down of Classical Mechanics\n",
    "* In the 1800s we thought we were basically \"done\" with physics.  Classical mechanics and electromagnetism described all systems we knew about.\n",
    "* However, several experiments in the late 1800s and early 1900s showed us that this was not entirely correct.  Classical mechanics breaks down when you are considering small objects (i.e. electrons, protons, etc.).  We nees a new type of physics to describe these objects: quantum mechanics:\n",
    "* There are many experiments you can look at to explore the breakdown of classical mechanics, but we will focus on the two-slit experiment."
   ]
  },
  {
   "cell_type": "markdown",
   "metadata": {},
   "source": [
    "## The Set-up of the Two-Slit Experiment\n",
    "![Two Slit](qm1.png)"
   ]
  },
  {
   "cell_type": "markdown",
   "metadata": {},
   "source": [
    "## The Classical Result\n",
    "\n",
    "![Gun](qm2.png)"
   ]
  },
  {
   "cell_type": "markdown",
   "metadata": {},
   "source": [
    "## The Electromagnetic (Wave) Result\n",
    "\n",
    "![wave](qm3.png)"
   ]
  },
  {
   "cell_type": "markdown",
   "metadata": {},
   "source": [
    "# What about Electrons?"
   ]
  },
  {
   "cell_type": "markdown",
   "metadata": {},
   "source": [
    "## The Two-Slit Experiment with Electrons\n",
    "\n",
    "![electrons](qm4.png)"
   ]
  },
  {
   "cell_type": "markdown",
   "metadata": {},
   "source": [
    "## Wave-Particle Duality\n",
    "\n",
    "* There are many interpretations of this result and many quantum textbooks make this into a mysterious concept\n",
    "* Basic Idea: Electrons (and other subatomic particles) are particles and waves are just a convinent mathematical tool to describe their behavior"
   ]
  },
  {
   "cell_type": "markdown",
   "metadata": {},
   "source": [
    "# Quantization \n",
    "\n",
    "\n"
   ]
  },
  {
   "cell_type": "markdown",
   "metadata": {},
   "source": [
    "## Quantized Values\n",
    "\n",
    "* The word \"quantum\" derives from the word quantized, which means discrete (can only have certain values)\n",
    "* Many physical values in quantum mechanics are quantized as a result of the wave behavior of particles\n",
    "![waves](qm5.png)"
   ]
  },
  {
   "cell_type": "markdown",
   "metadata": {},
   "source": [
    "## Quantized Quantities\n",
    "* Wavelength, $\\lambda$\n",
    "* Frequency, $\\nu$ = c/$\\lambda$ (c is the speed of light in a vacuum)\n",
    "* Energy, E = h$\\nu$\n",
    "* Momentum, p = $\\sqrt{2mE}$\n",
    "* And more!\n",
    "\n",
    "## Quantities that are Typically not Quantized\n",
    "* Position "
   ]
  },
  {
   "cell_type": "markdown",
   "metadata": {},
   "source": [
    "# Uncertainity\n",
    "\n",
    "* A famous component of quantum mechanics is uncertainity, meaning that there are certain physical properties of particles you can not measure at the same time and get exact results.\n",
    "* The most common example of this is position and momentum:\n",
    "    * In a classical system you can exactly measure the position and momentum of an object at the same time\n",
    "    * In a quantum system you have to choose which one you want to exactly measure.  The other one you can only measure to a given uncertainity (error).\n",
    "* This __uncertainity principle__ also derives from the wave-like nature of quantum particles.  \n",
    "![waves](qm7.png)\n",
    "![waves](qm8.png)\n",
    "* Later today we will explore this concept a bit more mathematically."
   ]
  },
  {
   "cell_type": "markdown",
   "metadata": {},
   "source": [
    "# Math Interlude: Imaginary and Complex Numbers"
   ]
  },
  {
   "cell_type": "markdown",
   "metadata": {},
   "source": [
    "## Imaginary and Complex Numbers\n",
    "* The imaginary number: i = $\\sqrt{-1}$\n",
    "    * Needed to find roots for all equations (y = -x$^2$)\n",
    "    * Important property: i$^2$ = 1\n",
    "* Complex numbers: z = a+ib where a,b are real numbers\n",
    "    * Re(z) = a, Im(z) = b\n",
    "    * Complex Conjugate: z$^*$ = a-ib\n",
    "* zz$^*$ = |z|$^2$ = a$^2$ + b$^2$ (It's a real number!)\n",
    "* Euler's Identity: e$^{i\\theta}$ = cos$\\theta$ + isin$\\theta$"
   ]
  },
  {
   "cell_type": "markdown",
   "metadata": {},
   "source": [
    "# Math Interlude: Matrices and Vectors\n",
    "\n",
    "* A vector is a one dimensional structure of numbers, typically denoted with a lowercase letter (bold or with a arrow)\n",
    "$$\\vec{v} = \\textbf{v} = \\begin{bmatrix} a_0 \\\\ a_1 \\\\ a_2 \\\\ . \\\\ . \\\\ . \\\\ a_n \\end{bmatrix}$$\n",
    "\n",
    "* A matrix is a two dimensional structure of numbers, typically denoted with a capital letter\n",
    "$$A = \\begin{bmatrix}\n",
    "a_{00} & a_{01} & a_{02} & . & . & . & a_{0m} \\\\\n",
    "a_{10} & a_{11} & a_{12} & . & . & . & a_{1m} \\\\\n",
    "a_{20} & a_{21} & a_{22} & . & . & . & a_{2m} \\\\\n",
    ". & . & . & . & . & . & . \\\\\n",
    ". & . & . & . & . & . & . \\\\\n",
    ". & . & . & . & . & . & . \\\\\n",
    "a_{n0} & a_{n1} & a_{n2} & . & . & . & a_{nm} \\\\\n",
    "\\end{bmatrix}$$"
   ]
  },
  {
   "cell_type": "markdown",
   "metadata": {},
   "source": [
    "## Transpose\n",
    "\n",
    "* Transpose is an important operator for manipulating matrices and vectors\n",
    "* Make the rows into columns and make the columns into rows\n",
    "\n",
    "Vectors:\n",
    "$$\\textbf{v} = \\begin{bmatrix} a_0 \\\\ a_1 \\\\ a_2 \\\\ . \\\\ . \\\\ . \\\\ a_n \\end{bmatrix}$$\n",
    "\n",
    "$$\\textbf{v}^T = \\begin{bmatrix} a_0 & a_1 & a_2 & . & . & . & a_n \\\\ \\end{bmatrix}$$\n",
    "\n",
    "\n",
    "Matrices:\n",
    "\n",
    "$$A = \\begin{bmatrix}\n",
    "a_{00} & a_{01} & a_{02} & . & . & . & a_{0m} \\\\\n",
    "a_{10} & a_{11} & a_{12} & . & . & . & a_{1m} \\\\\n",
    "a_{20} & a_{21} & a_{22} & . & . & . & a_{2m} \\\\\n",
    ". & . & . & . & . & . & . \\\\\n",
    ". & . & . & . & . & . & . \\\\\n",
    ". & . & . & . & . & . & . \\\\\n",
    "a_{n0} & a_{n1} & a_{n2} & . & . & . & a_{nm} \\\\\n",
    "\\end{bmatrix}$$\n",
    "\n",
    "$$A^T = \\begin{bmatrix}\n",
    "a_{00} & a_{10} & a_{02} & . & . & . & a_{m0} \\\\\n",
    "a_{01} & a_{11} & a_{21} & . & . & . & a_{m1} \\\\\n",
    "a_{02} & a_{12} & a_{22} & . & . & . & a_{m2} \\\\\n",
    ". & . & . & . & . & . & . \\\\\n",
    ". & . & . & . & . & . & . \\\\\n",
    ". & . & . & . & . & . & . \\\\\n",
    "a_{0n} & a_{1n} & a_{2n} & . & . & . & a_{mn} \\\\\n",
    "\\end{bmatrix}$$"
   ]
  },
  {
   "cell_type": "markdown",
   "metadata": {},
   "source": [
    "# Math Interlude: Matrix/Matrix Multiplication\n",
    "\n",
    "* Given a matrix A which as m rows and n columns (mxn) and a matrix B which has n rows and p columns (nxp) we can create another matrix C which has m rows and p columns by multiplying A and B together.\n",
    "* For each matrix element in the ith row and the jth column of the matrix C, we can find its value using the following equation:\n",
    "$$C_{ij} = \\sum_kA_{ik}B_{kj}$$\n",
    "* Example:\n",
    "$$A = \\begin{bmatrix} 1 & 2 & 3 \\\\ \\end{bmatrix} \\quad B = \\begin{bmatrix} 4 & 5 \\\\ 6 & 7 \\\\ 8 & 9 \\\\ \\end{bmatrix}$$\n",
    "\n",
    "* Find the matrix C=AB\n",
    "* NOTE: When we multiply a vector by a vector we call this a dot product"
   ]
  },
  {
   "cell_type": "markdown",
   "metadata": {},
   "source": [
    "# Math Interlude: Eigenvalues and Eigenvectors\n",
    "\n",
    "* Eigenvectors and eigenvalues are used all the time in quantum mechanics, but what are they?\n",
    "\n",
    "* Consider a vector, x, that can be multiplied to a square matrix, A, to yield the following result:\n",
    "$$Ax = \\lambda x, \\lambda\\ is\\ complex\\ or\\ real$$\n",
    "\n",
    "* A vector that makes this equation true is called an eigenvector of A and the value of $\\lambda$ is called the eigenvalue.\n",
    "* You can kind of think of this process as analgous to finding the roots of an equation.\n",
    "* In general a square matrix with n rows and n columns will have n eigenvalues and n eigenvectors, though they may not all be unique."
   ]
  },
  {
   "cell_type": "markdown",
   "metadata": {},
   "source": [
    "## Finding Eigenvalues By Hand\n",
    "\n",
    "For a square matrix A, an eigenvalue is any number that sastisfies this equation:\n",
    "\n",
    "$$ |A-\\lambda I| = 0,$$\n",
    "\n",
    "where I is the identity matrix and the two bars represent the determinant of a matrix (similar to a norm for vectors).\n",
    "\n",
    "Example:\n",
    "\n",
    "$$A = \\begin{bmatrix} 0 & 1 \\\\ -2 & -3 \\\\ \\end{bmatrix}$$"
   ]
  },
  {
   "cell_type": "markdown",
   "metadata": {},
   "source": [
    "## Finding Eigenvectors By Hand\n",
    "\n",
    "Very similar to finding eigenvalues, and eigenvector is any vector which satisfies this equation:\n",
    "\n",
    "$$(A-\\lambda I)\\textbf{v} = 0$$\n",
    "\n",
    "Example:\n",
    "\n",
    "$$A = \\begin{bmatrix} 0 & 1 \\\\ -2 & -3 \\\\ \\end{bmatrix}$$"
   ]
  },
  {
   "cell_type": "markdown",
   "metadata": {},
   "source": [
    "# Ten Minute Break!"
   ]
  },
  {
   "cell_type": "markdown",
   "metadata": {},
   "source": [
    "# Wavefunctions, Normalization, Basis, and Superposition Principle"
   ]
  },
  {
   "cell_type": "markdown",
   "metadata": {},
   "source": [
    "## What is a wavefunction?\n",
    "* Wavefunction, $|\\Psi(x,t) \\rangle$: equation describes everything that can be known about a particle or system (many particles)\n",
    "    * Find it based on known facts about the system such as initial conditions or boundary conditions\n",
    "    * \n",
    "* Each possible configuration of a system gives a different wavefunction, $|\\Psi_1\\rangle, |\\Psi_2\\rangle, |\\Psi_3\\rangle$\n",
    "* Can create a wavefunction that is a composite of two or more wavefunctions from our basis:\n",
    "$$|\\Psi\\rangle = a|\\Psi_1\\rangle + b|\\Psi_2\\rangle,$$\n",
    "where a and b are real or complex numbers\n",
    "* We say that this wavefunction is simulataneously in state 1 and in state 2: Superposition!"
   ]
  },
  {
   "cell_type": "markdown",
   "metadata": {},
   "source": [
    "## All Possible Wavefunctions From A Basis\n",
    "* Spin of an electron (spin is the intrinsic angular momentum of a particle).  Spin can either be called spin up or spin down.  Let's create two wavefunctions to represent these:\n",
    "\n",
    "$$|\\Psi_{up}\\rangle = \\begin{bmatrix} 1 \\\\ 0 \\end{bmatrix} \\quad |\\Psi_{down}\\rangle = \\begin{bmatrix} 0 \\\\ 1 \\end{bmatrix}$$\n",
    "\n",
    "\n",
    "\n",
    "* From these two wavefunctions and with two complex numbers (a and b) I can create a wavefunction corresponding to any vector of length 2.\n",
    "* Because of this we say that $|\\Psi_{up}\\rangle$ and $|\\Psi_{down}\\rangle$ for a basis"
   ]
  },
  {
   "cell_type": "markdown",
   "metadata": {},
   "source": [
    "## This is a familar concept: Coordinate System!\n",
    "\n",
    "You use a basis almost every day even if you don't realize it!  The unit vectors of the Cartesian coordiante system for a basis for every vector of length 3.\n",
    "\n",
    "$$ \\hat{x} = \\begin{bmatrix} 1 \\\\ 0 \\\\ 0 \\end{bmatrix} \\quad \\hat{y} = \\begin{bmatrix} 0 \\\\ 1 \\\\ 0 \\end{bmatrix} \\quad \\hat{z} = \\begin{bmatrix} 0 \\\\ 0 \\\\ 1 \\end{bmatrix}$$"
   ]
  },
  {
   "cell_type": "markdown",
   "metadata": {},
   "source": [
    "## Superposition Principle, Probability, and Normalization\n",
    "* Can create a wavefunction that is a composite of two or more wavefunctions from our basis:\n",
    "$$|\\Psi\\rangle = a|\\Psi_1\\rangle + b|\\Psi_2\\rangle,$$\n",
    "where a and b are real or complex numbers\n",
    "* We say that this wavefunction is simulataneously in state 1 and in state 2: Superposition!\n",
    "* However, when we observed the system this wavefunction describes we cannot get something between state 1 and state 2 (quantized values!)\n",
    "    * Example: An electron is either spin-up or spin-down.  Those are the only two options.\n",
    "    * Classical Example: A quarter can only land on heads or tails.\n",
    "* How do we make sense of this?"
   ]
  },
  {
   "cell_type": "markdown",
   "metadata": {},
   "source": [
    "## Born Interpretation: Statistics!\n",
    "\n",
    "* A composite wavefunction is not in both states, rather you have a chance of measuring it in state 1 and a chance of measuring it in state 2.  Its held in a suspension of two or more states, but when you try to measure the wavefunction it has to collapse to one of its possible states.\n",
    "    * Schrodinger's Cat\n",
    "    \n",
    "</br>\n",
    "\n",
    "Question: What probability do we have of finding each wavefunction?\n",
    "$$|\\Psi\\rangle = a|\\Psi_1\\rangle + b|\\Psi_2\\rangle, \\quad a,b \\in complex\\ numbers$$\n",
    "\n",
    "For probability we need something like this:\n",
    "\n",
    "$$\\sum_i p_ix_i = average\\ value$$\n",
    "$$\\sum_i p_i = 1, p_i \\in real\\ numbers$$\n",
    "\n",
    "How do we align these two different sets of equations?"
   ]
  },
  {
   "cell_type": "markdown",
   "metadata": {},
   "source": [
    "## Born Approximation of Quantum Mechanics\n",
    "\n",
    "Given the wavefunction: \n",
    "    \n",
    "$$|\\Psi\\rangle = a|\\Psi_1\\rangle + b|\\Psi_2\\rangle, \\quad a,b \\in complex\\ numbers$$\n",
    "\n",
    "when measuring $|\\Psi\\rangle$ the probability of getting $|\\Psi_1\\rangle$ is |a|$^2$ and the probability of getting $|\\Psi_2\\rangle$ is |b|$^2$\n",
    "\n",
    "</br>\n",
    "\n",
    "As one final step, to ensure that all of the probabilities add up to 1, we need to _normalize_ the wavefunction.  This means that we want the norm of our wavefunction (which is a vector) the be one.\n",
    "\n"
   ]
  },
  {
   "cell_type": "markdown",
   "metadata": {},
   "source": [
    "## Linear Algebra Notation for Norm\n",
    "$$|\\textbf{v}| = \\sqrt{v_1^2 + v_2^2 + v_3^2 + ...} = \\sqrt{\\textbf{v}^T\\textbf{v}}$$\n",
    "* In quantum mechanics when we take the transpose of a wavefunction we also want to take the complex conjugate:\n",
    "    * $|\\Psi\\rangle$ is called a ket\n",
    "    * $(|\\Psi\\rangle^*)^T$ = $\\langle \\Psi|$ is called a bra\n",
    "    * $\\langle \\Psi | \\Psi \\rangle$ is called a bracket and represents vector/vector multiplication (called a dot product)\n",
    "* A normalized wavefunction is one in which $\\langle \\Psi | \\Psi \\rangle = 1$.\n",
    "\n",
    "$$|\\Psi\\rangle = a|\\Psi_1\\rangle + b|\\Psi_2\\rangle$$\n",
    "\n",
    "$\\langle \\Psi | \\Psi \\rangle = \\langle \\Psi_1 |a^*a| \\Psi_1 \\rangle + \\langle \\Psi_2 |b^*b| \\Psi_2 \\rangle = |a|^2\\langle \\Psi_1 | \\Psi_1 \\rangle + |b|^2\\langle \\Psi_2 | \\Psi_2 \\rangle = |a|^2 + |b|^2 = 1$\n",
    "\n",
    "* If wavefunction is not normalized then need to divide the entire vector by $\\sqrt{\\langle \\Psi | \\Psi \\rangle}$"
   ]
  },
  {
   "cell_type": "markdown",
   "metadata": {},
   "source": [
    "\n",
    "# Expectation Values and Operators\n"
   ]
  },
  {
   "cell_type": "markdown",
   "metadata": {},
   "source": [
    "## Operators\n",
    "* An operator is how we extract physical information from a wavefunction\n",
    "* We represent operators as matrices (in contrast to wavefunctions which are vectors)\n",
    "* Example, lets consider the operator which extracts momentum from a wavefunction (typically denoted as **p**):\n",
    "$$\\textbf{p}|\\Psi\\rangle = p|\\Psi\\rangle$$\n",
    "* The momentum operator acts on the wavefunction (through matrix/vector multiplication) and returns the same wavefunction times a constant, p.  The constant is the momentum of the wavefunction.\n",
    "* What form does this equation resemble?  (Hint: we have seen it today....)"
   ]
  },
  {
   "cell_type": "markdown",
   "metadata": {},
   "source": [
    "## Wavefunctions are Eigenvectors of the Operators!\n",
    "* This also means that the physicsal observables are eigenvalues of the operator matrices!\n",
    "* I won't go into specifics as to what the operators look like (that's for the rest of the week!), but we need to build up a little more machinery to be ready for that!"
   ]
  },
  {
   "cell_type": "markdown",
   "metadata": {},
   "source": [
    "## Special Operator: Hamiltonian\n",
    "\n",
    "A Hamiltonian is simply a special operator which gives the energy of a wavefunction:\n",
    "\n",
    "$$\\hat{H}|\\Psi\\rangle = E|\\Psi\\rangle$$"
   ]
  },
  {
   "cell_type": "markdown",
   "metadata": {},
   "source": [
    "## Expectation Values\n",
    "\n",
    "$$\\textbf{p}|\\Psi_1\\rangle = p_1|\\Psi_1\\rangle$$\n",
    "$$\\textbf{p}|\\Psi_2\\rangle = p_2|\\Psi_2\\rangle$$\n",
    "$$|\\Psi\\rangle = a|\\Psi_1\\rangle + b|\\Psi_2\\rangle$$\n",
    "$$\\textbf{p}|\\Psi\\rangle = ap_1|\\Psi_1\\rangle + bp_2|\\Psi_2\\rangle$$\n",
    "\n",
    "$$\\langle \\Psi |\\textbf{p}|\\Psi\\rangle = \\langle \\Psi_1 | a^*ap_1|\\Psi_1\\rangle + \\langle \\Psi_2 | b^*bp_2|\\Psi_2\\rangle = p_1|a|^2\\langle \\Psi_1|\\Psi_1\\rangle + p_2|b|^2\\langle \\Psi_2 |\\Psi_2\\rangle = p_1|a|^2 + p_2|b|^2$$\n",
    "\n",
    "Every time we measure the momenum we can only get $p_1$ or $p_2$, but if we average a bunch of measurements together, then we are likely to get something close to $p_1|a|^2 + p_2|b|^2$, which we would expect from our talk on the Born Interpretation.\n"
   ]
  },
  {
   "cell_type": "markdown",
   "metadata": {},
   "source": [
    "# Math Interlude: Commutators\n",
    "\n",
    "* Matrix multiplication does not work the same way as scalar multiplication.\n",
    "    * For two scalars a and b, ab = ba\n",
    "    * But, for two matrices A and B, AB $\\neq$ BA (but could be equal in special cases)\n",
    "* This leads us develop something called a commutator (for square matrices of the same size):\n",
    "$$[A,B] = AB - BA $$\n",
    "* Basically the difference that comes from switching the order of multiplication.\n",
    "* This structure (a commutator) actually plays an important role in quantum mechanics."
   ]
  },
  {
   "cell_type": "markdown",
   "metadata": {},
   "source": [
    "# Uncertainity Revisited\n",
    "* Operators are matrices and they corresponds to physicsal quantities\n",
    "* If the operators for two physical quantities commute, then you can measure both quantities at the same time.\n",
    "* Likewise if they do not commute then you cannot measure both quantities at the same time to exact precision.\n",
    "\n",
    "Example:\n",
    "\n",
    "$$[\\textbf{x}, \\textbf{p}] = i\\hbar I$$\n",
    "\n"
   ]
  },
  {
   "cell_type": "code",
   "execution_count": null,
   "metadata": {},
   "outputs": [],
   "source": []
  }
 ],
 "metadata": {
  "kernelspec": {
   "display_name": "Python 3",
   "language": "python",
   "name": "python3"
  },
  "language_info": {
   "codemirror_mode": {
    "name": "ipython",
    "version": 3
   },
   "file_extension": ".py",
   "mimetype": "text/x-python",
   "name": "python",
   "nbconvert_exporter": "python",
   "pygments_lexer": "ipython3",
   "version": "3.7.3"
  }
 },
 "nbformat": 4,
 "nbformat_minor": 4
}
