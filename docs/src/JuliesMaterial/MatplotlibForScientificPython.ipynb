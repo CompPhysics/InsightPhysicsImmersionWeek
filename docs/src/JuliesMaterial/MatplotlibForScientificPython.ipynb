{
 "cells": [
  {
   "cell_type": "markdown",
   "metadata": {
    "id": "L70RNd1B3zXR"
   },
   "source": [
    "# Matplotlib For Scientific Python\n",
    "\n",
    "Julie Butler Hartley\n",
    "\n",
    "June 2021\n",
    "\n",
    "Physics Immersion Week\n",
    "\n",
    "Pre-Reading Notebook **3/4**\n",
    "\n",
    "Please complete this notebook before class on June 21, 2021.\n",
    "\n",
    "</br>\n",
    "\n",
    "If you have any questions while working through this notebook, please feel free to contact Julie Butler at butle222@msu.edu or Morten Hjorth-Jensen at hjensen@msu.edu.\n",
    "\n",
    "</br>\n",
    "\n",
    "If you want to use this notebook in Google Colab click [this link](https://colab.research.google.com/drive/1LXNOJL3ZejzlG5ar8b_U_o_SOD9-3BRZ?usp=sharing) (make sure you are logged into your Google account).  Once the webpage opens up click `File > Save copy a in Drive'.  Then go to your own Google Drive account and use the copy.\n",
    "\n",
    "</br>\n",
    "\n",
    "Matplotlib is a library that is commonly used in physics applications to make graphs.  It allows you to easily create nice looking graphs and provides you with a high degree of control over the various aspects of the graphs.  This tutorial will explore some basic aspects of Matplotlib we will be using over the next week, but the library is capable of much more than what is shown here.  For more information, see [these tutorials](https://matplotlib.org/stable/tutorials/index.html).\n",
    "\n",
    "## Generating Data With NumPy\n",
    "\n",
    "Numpy has a bunch of great features that will let us generate some test data sets.  For our graphing purposes, let's go ahead and generate a data set in the shape of a quadratic."
   ]
  },
  {
   "cell_type": "code",
   "execution_count": null,
   "metadata": {
    "colab": {
     "base_uri": "https://localhost:8080/"
    },
    "id": "WCgLrRgXYEdX",
    "outputId": "c91c7f04-4445-401b-85fe-00f86e396a3e"
   },
   "outputs": [],
   "source": [
    "# Import the numpy library (see pre-reading notebook 2/4)\n",
    "import numpy as np\n",
    "\n",
    "# We are going to use the Numpy function arange to make evenly spaced data over a given range\n",
    "# arange works just like the range function in for loops and returns an array\n",
    "x1 = np.arange(-10, 10)\n",
    "print(x1)\n",
    "\n",
    "# Next, lets take x1 and put it into a quadratic equation\n",
    "y1 = 2*x1**2 + 3*x1 + 4\n",
    "print(y1)"
   ]
  },
  {
   "cell_type": "markdown",
   "metadata": {
    "id": "8VLmsSnsYoWL"
   },
   "source": [
    "**EXERCISE 1:** Use the Numpy `arange` function to make a second data set in any shape you like.  Just make sure that the x data is called `x2` and the y data is called `y2`.  These names are important because we will be using them later!"
   ]
  },
  {
   "cell_type": "code",
   "execution_count": null,
   "metadata": {
    "id": "igFY5xr0Yog7"
   },
   "outputs": [],
   "source": []
  },
  {
   "cell_type": "markdown",
   "metadata": {
    "id": "Z8ovsIgiXyYD"
   },
   "source": [
    "## Importing Matplotlib\n",
    "\n",
    "Matplotlib is a library so there are many ways to import it (see notebook 1).  However like Numpy (notebook 2) there is a standard way to import the library that almost everyone uses.\n",
    "\n"
   ]
  },
  {
   "cell_type": "code",
   "execution_count": null,
   "metadata": {
    "id": "acGh5UBdZPoN"
   },
   "outputs": [],
   "source": [
    "# Standard way to import matplotlib\n",
    "import matplotlib.pyplot as plt"
   ]
  },
  {
   "cell_type": "markdown",
   "metadata": {
    "id": "Erx54s_VZVaP"
   },
   "source": [
    "This way of importing means that we will access all of its functions with a `plt.` prefix.\n",
    "\n",
    "## Basic Plotting \n",
    "\n",
    "Creating a graph in Matplotlib is just one simple line!  So if we want to graph the data set x1 and y1, all we need to do is type:"
   ]
  },
  {
   "cell_type": "code",
   "execution_count": null,
   "metadata": {
    "colab": {
     "base_uri": "https://localhost:8080/",
     "height": 284
    },
    "id": "PGjryKiIZvEq",
    "outputId": "33deb8e8-22e9-41cc-d465-f175c80261bb"
   },
   "outputs": [],
   "source": [
    "plt.plot(x1, y1)"
   ]
  },
  {
   "cell_type": "markdown",
   "metadata": {
    "id": "UnKWnRIqZ0th"
   },
   "source": [
    "**WARNING:** Jupyter notebooks and Colab automatically display the graph after you plot it.  If you are ever running Python any other way you will need to add `plt.show()` as the last line of your graphing code to display the graph.\n",
    "\n",
    "**EXERCISE 2:** Using the same method as above, plot the dataset x2 and y2 below.  Verify that the plot matches the data set you generated."
   ]
  },
  {
   "cell_type": "code",
   "execution_count": null,
   "metadata": {
    "id": "z4LUHuniaZDj"
   },
   "outputs": [],
   "source": []
  },
  {
   "cell_type": "markdown",
   "metadata": {
    "id": "IZwfzyExasjP"
   },
   "source": [
    "### Making the Lines Pretty\n",
    "\n",
    "The graphs above, while displaying our data, are basic.  Let's see if we can make the lines look a bit better.  The first thing we can do is make the line thicker, so it is easier to see.  We can do this with the `linewidth` argument of the plot function."
   ]
  },
  {
   "cell_type": "code",
   "execution_count": null,
   "metadata": {
    "colab": {
     "base_uri": "https://localhost:8080/",
     "height": 284
    },
    "id": "CHtB3Zqaa6WM",
    "outputId": "82f65f11-bce6-4261-89ed-6f620a54187c"
   },
   "outputs": [],
   "source": [
    "plt.plot(x1,y1,linewidth=4)"
   ]
  },
  {
   "cell_type": "markdown",
   "metadata": {
    "id": "p4_v6ccNa_EL"
   },
   "source": [
    "Setting `linewidth` equal to a number changes the thickness of the line.  The larger the number, the thicker the line.\n",
    "\n",
    "The second thing we can do to is to change the line style.  The default line style is a blue, solid line, but we can change this.  See [this page](https://matplotlib.org/2.1.2/api/_as_gen/matplotlib.pyplot.plot.html) for some examples.  For example, if I want to plot by data with red triangles I can do the following:"
   ]
  },
  {
   "cell_type": "code",
   "execution_count": null,
   "metadata": {
    "colab": {
     "base_uri": "https://localhost:8080/",
     "height": 284
    },
    "id": "aZuaZQJibZJJ",
    "outputId": "feaace5f-0637-4b1c-e9ce-a56ebe960a2c"
   },
   "outputs": [],
   "source": [
    "plt.plot(x1, y1, 'r^')"
   ]
  },
  {
   "cell_type": "markdown",
   "metadata": {
    "id": "dyRwT4zCbdM9"
   },
   "source": [
    "**EXERCISE 3:** Improve your graph of the second data set using any combination of linewidth and line styles you want!"
   ]
  },
  {
   "cell_type": "code",
   "execution_count": null,
   "metadata": {
    "id": "evEq-JoVbdTm"
   },
   "outputs": [],
   "source": []
  },
  {
   "cell_type": "markdown",
   "metadata": {
    "id": "j0Ea0xgaZOqk"
   },
   "source": [
    "## Plotting Multiple Data Sets on One Graph\n",
    "\n",
    "Sometimes it is useful to plot two or more data sets on the same plot to compare them.  Matplotlib makes it very easy to do this; you just put the plot statements one after the other and they will all appear on the same plot!\n"
   ]
  },
  {
   "cell_type": "code",
   "execution_count": null,
   "metadata": {
    "colab": {
     "base_uri": "https://localhost:8080/",
     "height": 283
    },
    "id": "3ebiXxstcA0m",
    "outputId": "6bf83c3c-a960-4b85-8fea-3a639facb4fe"
   },
   "outputs": [],
   "source": [
    "plt.plot(x1, y1)\n",
    "plt.plot(x2, y2)"
   ]
  },
  {
   "cell_type": "markdown",
   "metadata": {
    "id": "vsAOF39bcNcL"
   },
   "source": [
    "**EXERCISE 4:** Create a third dataset (`x3` and `y3`) using the same method from the beginning of this tutorial.  Plot all three data sets on the same graph."
   ]
  },
  {
   "cell_type": "code",
   "execution_count": null,
   "metadata": {
    "id": "gOd6zmuAcNue"
   },
   "outputs": [],
   "source": []
  },
  {
   "cell_type": "markdown",
   "metadata": {
    "id": "J1lL0NgAbcUH"
   },
   "source": [
    "## Adding Legends and Axes Labels\n",
    "\n",
    "Legends and axes labels are important parts of graphs in scientific applications.  They tell us what the different lines are and what we are plotting as a function of what.  Matplotlib makes it very easy to add in legends and axes labels, but first we need to label the different datasets with the names we want on the legend.  We do this with the `label` argument:\n",
    "\n"
   ]
  },
  {
   "cell_type": "code",
   "execution_count": null,
   "metadata": {
    "colab": {
     "base_uri": "https://localhost:8080/",
     "height": 283
    },
    "id": "0veWttQubcdG",
    "outputId": "cab42d98-49c2-4b34-e26a-5fa2cdeaf948"
   },
   "outputs": [],
   "source": [
    "plt.plot(x1, y1, linewidth=4, label=\"Dataset 1\")\n",
    "plt.plot(x2, y2, linewidth=4, label=\"Dataset 2\")"
   ]
  },
  {
   "cell_type": "markdown",
   "metadata": {
    "id": "NtuHG7q5eZEj"
   },
   "source": [
    "Now we can easily add a legend to our graph with the `legend` function of the matplotlib library."
   ]
  },
  {
   "cell_type": "code",
   "execution_count": null,
   "metadata": {
    "colab": {
     "base_uri": "https://localhost:8080/",
     "height": 283
    },
    "id": "GZ0Uk7m5ehji",
    "outputId": "742fe952-0be4-4f73-c156-841ce12dbbf9"
   },
   "outputs": [],
   "source": [
    "plt.plot(x1, y1, linewidth=4, label=\"Dataset 1\")\n",
    "plt.plot(x2, y2, linewidth=4, label=\"Dataset 2\")\n",
    "plt.legend()"
   ]
  },
  {
   "cell_type": "markdown",
   "metadata": {
    "id": "d22sHLBBekz9"
   },
   "source": [
    "Matplotlib adds the legend at the location it thinks is best based on where the data falls on the graph.\n",
    "\n",
    "Next, we can add labels to the x and y axes using the `xlabel` and `ylabel` functions of the Matplotlib library."
   ]
  },
  {
   "cell_type": "code",
   "execution_count": null,
   "metadata": {
    "colab": {
     "base_uri": "https://localhost:8080/",
     "height": 297
    },
    "id": "Ih2jn55pfAng",
    "outputId": "b10a8c74-300b-444b-d6aa-290339bd65f2"
   },
   "outputs": [],
   "source": [
    "plt.plot(x1, y1, linewidth=4, label=\"Dataset 1\")\n",
    "plt.plot(x2, y2, linewidth=4, label=\"Dataset 2\")\n",
    "plt.legend()\n",
    "plt.xlabel(\"X Data\")\n",
    "plt.ylabel(\"Y Data\")"
   ]
  },
  {
   "cell_type": "markdown",
   "metadata": {
    "id": "RcmScti9fH1o"
   },
   "source": [
    "**EXERCISE 5:** Plot the three data sets you have created so far using and line styles and linewidths you like.  Make sure all three are plotted on the same graph.  Give each data set a label and add a legend, a x-label and a y-label to your graph."
   ]
  },
  {
   "cell_type": "code",
   "execution_count": null,
   "metadata": {
    "id": "uHihbbkgfICk"
   },
   "outputs": [],
   "source": []
  },
  {
   "cell_type": "markdown",
   "metadata": {
    "id": "kuU5Vkss6qMP"
   },
   "source": [
    "## Further Reading\n",
    "\n",
    "For further reading see the tutorials linked at the beginning of this notebook.  There is also a very nice document [here](https://github.com/rougier/matplotlib-tutorial) which may also be useful for learning the library."
   ]
  },
  {
   "cell_type": "code",
   "execution_count": null,
   "metadata": {
    "id": "4Xp2nKL_7At5"
   },
   "outputs": [],
   "source": []
  }
 ],
 "metadata": {
  "colab": {
   "name": "MatplotlibForScientificPython.ipynb",
   "provenance": []
  },
  "kernelspec": {
   "display_name": "Python 3",
   "language": "python",
   "name": "python3"
  },
  "language_info": {
   "codemirror_mode": {
    "name": "ipython",
    "version": 3
   },
   "file_extension": ".py",
   "mimetype": "text/x-python",
   "name": "python",
   "nbconvert_exporter": "python",
   "pygments_lexer": "ipython3",
   "version": "3.9.2"
  }
 },
 "nbformat": 4,
 "nbformat_minor": 1
}
