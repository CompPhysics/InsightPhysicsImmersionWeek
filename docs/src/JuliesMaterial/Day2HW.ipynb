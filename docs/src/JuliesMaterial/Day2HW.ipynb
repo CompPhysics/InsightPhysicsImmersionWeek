{
 "cells": [
  {
   "cell_type": "markdown",
   "metadata": {},
   "source": [
    "## Pencil and Paper Exercises\n",
    "\n",
    "1. In your own words, describe the two-slit experiment.  It may be helpful to reread the section on the two-slit experiment from yesterday's homework.\n",
    "2. Given the complex numbers: x = 4 + 5i and y = 8 + 2i\n",
    "    * What is Re(x)?\n",
    "    * What is Im(y)?\n",
    "    * Find |x|$^2$ and |y|$^2$.\n",
    "    * What is xy?\n",
    "3. Write down the transpose of the following:\n",
    "$$\\textbf{v} = \\begin{bmatrix}1 & 2 & 3 \\end{bmatrix} \\quad A = \\begin{bmatrix} 4 & 5 & 6 \\\\ 7 & 8 & 9\\end{bmatrix}$$\n",
    "4. Given the following matrices, find AB and BA:\n",
    "$$A = \\begin{bmatrix} -4 & 4 \\\\ 1 & 6 \\end{bmatrix} \\quad B = \\begin{bmatrix} 2 & -9 \\\\ 4 & 1 \\end{bmatrix}$$\n",
    "5. Find [A,B] (the commutator) using the matrices in the previous problem.\n",
    "6. Find the eigenvalues and eigenvectors of the following matrix:\n",
    "$$A = \\begin{bmatrix} -4 & 2 \\\\-3 & 2\\end{bmatrix}$$\n",
    "7. From the lecture notes you saw what a basis for vectors of length 2 and vectors of length 3 look like.  What would a basis for vectors of lenght 4 look like?\n",
    "8. Given a basis made up of at least the following wavefunctions: $|\\Psi_1 \\rangle$, $|\\Psi_2 \\rangle$, $\\Psi_3 \\rangle$, consider the following composite wavefunction:\n",
    "$$ |\\Psi\\rangle = (4-i)|Psi_1\\rangle + 3i|\\Psi_2\\rangle + 9|\\Psi_3\\rangle$$\n",
    "    * What is the corresponding bra to this ket?  Remember the bra is the transposed complex-conjugate of the ket.\n",
    "    * Is $|\\Psi\\rangle$ normalize?  If not normalize it.\n",
    "    * What is the probability of measuring $\\Psi_1\\rangle$ when investigating $\\Psi\\rangle$?\n",
    "    * Given a generic operator $\\textbf{O}$, consider the following equations and write down the expectation value of \\textbf{O} when applied to $|\\Psi\\rangle$:\n",
    "$$\\textbf{O}|\\Psi_1\\rangle = o_1|\\Psi_1\\rangle \\quad \\textbf{O}|\\Psi_2\\rangle = o_2|\\Psi_2\\rangle \\quad \\textbf{O}|\\Psi_3\\rangle = o_3|\\Psi_3\\rangle$$\n",
    "    \n"
   ]
  },
  {
   "cell_type": "markdown",
   "metadata": {},
   "source": [
    "## Coding Exercises\n",
    "\n",
    "1. In the code cell below import the library NumPy"
   ]
  },
  {
   "cell_type": "code",
   "execution_count": 2,
   "metadata": {},
   "outputs": [],
   "source": [
    "import numpy as np"
   ]
  },
  {
   "cell_type": "markdown",
   "metadata": {},
   "source": [
    "2. In the code cell below create a square matrix of size 2x2 called `A`.  (Hint: we do this in Python with a 2D array)."
   ]
  },
  {
   "cell_type": "code",
   "execution_count": 3,
   "metadata": {},
   "outputs": [],
   "source": [
    "A = np.array([[3,4], [5,6]])"
   ]
  },
  {
   "cell_type": "markdown",
   "metadata": {},
   "source": [
    "3. The following code will numerically compute the eigenvalues and eigenvectors of `A`.  Go through it line by line and see if you can make sense of what it does."
   ]
  },
  {
   "cell_type": "code",
   "execution_count": 5,
   "metadata": {},
   "outputs": [
    {
     "name": "stdout",
     "output_type": "stream",
     "text": [
      "[-0.21699057  9.21699057]\n"
     ]
    }
   ],
   "source": [
    "eigenvalues, eigenvectors = np.linalg.eig(A)\n",
    "\n",
    "print(\"The eigenvalues are\", eigenvalues)\n",
    "\n",
    "print(\"The first eigenvector is\", eigenvectors[:,0])\n"
   ]
  },
  {
   "cell_type": "code",
   "execution_count": null,
   "metadata": {},
   "outputs": [],
   "source": []
  }
 ],
 "metadata": {
  "kernelspec": {
   "display_name": "Python 3",
   "language": "python",
   "name": "python3"
  },
  "language_info": {
   "codemirror_mode": {
    "name": "ipython",
    "version": 3
   },
   "file_extension": ".py",
   "mimetype": "text/x-python",
   "name": "python",
   "nbconvert_exporter": "python",
   "pygments_lexer": "ipython3",
   "version": "3.7.3"
  }
 },
 "nbformat": 4,
 "nbformat_minor": 4
}
