{
  "nbformat": 4,
  "nbformat_minor": 0,
  "metadata": {
    "colab": {
      "name": "Copy of insight_hlophe.ipynb",
      "provenance": [],
      "include_colab_link": true
    },
    "kernelspec": {
      "name": "python3",
      "display_name": "Python 3"
    },
    "language_info": {
      "name": "python"
    }
  },
  "cells": [
    {
      "cell_type": "markdown",
      "metadata": {
        "id": "view-in-github",
        "colab_type": "text"
      },
      "source": [
        "<a href=\"https://colab.research.google.com/github/CompPhysics/InsightPhysicsImmersionWeek/blob/main/docs/src/LindasMaterial/insight_hlophe_slides.ipynb\" target=\"_parent\"><img src=\"https://colab.research.google.com/assets/colab-badge.svg\" alt=\"Open In Colab\"/></a>"
      ]
    },
    {
      "cell_type": "markdown",
      "metadata": {
        "id": "fOnI_GlVEGAG"
      },
      "source": [
        "# **Harmonic oscillator potential**\n",
        "\n",
        "Linda Hlophe\n",
        "\n",
        "June 2021\n",
        "\n",
        "Physics Immersion Week\n",
        "\n",
        "06/25/21\n",
        "\n",
        "\n",
        "## **Equation of motion**\n",
        "\n",
        "![ho_gif](https://github.com/CompPhysics/InsightPhysicsImmersionWeek/blob/main/docs/src/LindasMaterial/insight_ho.gif?raw=1)\n",
        "For classical systems, the dynamics are governed by Newton's second law:\n",
        "\n",
        "\\begin{equation} \n",
        " \\text{Force}~\\left(\\vec{F}\\right) = \\text{mass}~(m)~\\times~\\text{accelerations}~\\left(\\vec{a}\\right).\n",
        "\\end{equation} \n",
        "\n",
        "In one dimenion, the acceleration is given by the second order derivative of position with repsect to time\n",
        "\n",
        "$$ a = \\frac{d^2x}{dt^2}.$$\n",
        "\n",
        "Consider, for example, a mass ($m$) attached to a spring with constant $k$, oscillating in one dimension about its **natural length** where the potential energy is minimal. From the expression of the acceleration and Newton's second law the equation of motion in the form\n",
        "\n",
        "$$ \\frac{d^2x}{dt^2}=F(x)/m.$$\n",
        "\n",
        "If the explcit form of the force is known, the task is redcued solving a second order differential equation, which can be realized using the *linear algebra* techniques introduced in previous lectures. The derivation of the expression for the harmonic oscillator force is presented in the subsequent section.\n"
      ]
    },
    {
      "cell_type": "markdown",
      "metadata": {
        "id": "tKGchdIfETdp"
      },
      "source": [
        "## **Derivation of the force: Hook's law**\n",
        "\n",
        "In this section we derive Hooke's law and show that for small oscillations around the minimum of the potential (i.e. x=0), the force has the simple form\n",
        "\n",
        "\\begin{equation} \n",
        " F(x) = -kx.\n",
        "\\end{equation} \n",
        "\n",
        "Generally, the potential energy is a complicated function of the distance. However, for small oscillations around the natural length of the spring (i.e., at the minimum of the kinetic energy) we can perform a Taylor expansion around the $x=0$. The Taylor expansion of the potential energy $V(x)$ is an infine power series\n",
        "\n",
        "$$ V(x)=\\sum\\limits_{n=0}^{\\infty} c_{n}x^2 = c_0+c_1~x +c_2~x^2+~...,$$\n",
        "\n",
        "where the coefficinets $c_n$ are determined by evaluating the function and its derivative around the point $x=0$. At $x=0$ the series expansion reduces to\n",
        "\n",
        "$$ V(0)=a_0.$$\n",
        "\n",
        "The first and second derivatives at $x=0$ are given by\n",
        "\n",
        "$$\n",
        "V'(0)=\\frac{dV}{dx}\\Big\\vert_{x=0}=\\left(c_1+2c_2x+O(x^2)\\right)\\Big\\vert_{x=0}=c_1,\n",
        "$$\n",
        "\n",
        "and \n",
        "\n",
        "$$\n",
        " V^{''}(0)=\\frac{d^2V}{dx^2}\\Big\\vert_{x=0}=\\left(2c_2+O(x)\\right)\\Big\\vert_{x=0}=2c_2\n",
        "$$\n",
        "\n",
        "Coefficients for ($n \\ge 3$) can be determined in a simialr manner leading to a genereal expression $c_n=\\frac{1}{n!}V^{''}(0)$. The Taylor expansion of the potential energy can thus be written as\n",
        "$$\n",
        " V(x) = V(0)+V'(0)~x +\\frac{1}{2}~V^{''}(0)~x^2+~...\n",
        "$$\n",
        "By defition $V'(0)=0$ since $x=0$ is the minimum. The first (constant) term does not affect the force since the force is given by a derivative of the potential. In the vicinity of $x=0$ higher order terms (i.e $n\\ge3$) vanish so that\n",
        "\n",
        "\\begin{eqnarray}\n",
        " V(x)=\\frac{1}{2}~V^{''}(0)~x^2.\n",
        " \\end{eqnarray}\n",
        "\n",
        "If we define the constant\n",
        "\n",
        "$$k\\equiv \\frac{d^2V}{dx^2}\\Big\\vert_{x=0}=V^{''}(0),$$\n",
        "\n",
        "the potential can be cast in the form  \n",
        "\n",
        "$$ V(x)=\\frac{1}{2}kx^2.$$\n",
        "\n",
        "We recall that the force is proportional to the first derivative of the potential energy\n",
        "\n",
        "\\begin{eqnarray}\n",
        " F(x)&=&-\\frac{dV}{dx} = -kx.\n",
        "\\end{eqnarray}\n",
        "\n",
        "The acceleration appearing on the right-hand-side of the equation of motion is thus given by\n",
        "\n",
        "\\begin{eqnarray}\n",
        " a&=&F(x)/m =-(k/m)~x\n",
        " \\end{eqnarray}\n",
        "\n",
        "Introducing the angular frequency \n",
        "\n",
        "$$\\omega\\equiv \\sqrt{k/m},$$\n",
        "\n",
        "the potential and acceleration take the forms\n",
        "$$ V(x)=\\frac{1}{2}m\\omega^2x^2,$$\n",
        "\n",
        "and \n",
        "\n",
        "$$a=-\\omega^2 x.$$\n"
      ]
    },
    {
      "cell_type": "markdown",
      "metadata": {
        "id": "JzYOGKR1ZZc3"
      },
      "source": [
        "## **Solution to the equation of motion**\n",
        "\n",
        "Substituting the expressions for the acceleration and the force into Newton's second law gives \n",
        "\n",
        "\n",
        "\\begin{equation}\n",
        "  \\frac{d^2x}{dt^2} = -\\omega^2 x.\n",
        "\\end{equation}  \n",
        "\n",
        "The general solution of the above differential equation is given by\n",
        "a linear combination of sine and cosine functions\n",
        "$$ x(t) = A\\sin(\\omega t)+B\\cos(\\omega t).$$\n",
        "\n",
        "If we chose the condition that at $t=0$ the mass is at $x=0$, the solution reduces to     \n",
        "\n",
        "$$ x(t) = A\\sin(\\omega t),$$ \n",
        "\n",
        "and the velocity is given by \n",
        "\n",
        "$$ v(t) = \\frac{dx}{dt}=A\\omega\\cos(\\omega t).$$ \n"
      ]
    },
    {
      "cell_type": "code",
      "metadata": {
        "id": "plbLmtBFOY06",
        "colab": {
          "base_uri": "https://localhost:8080/",
          "height": 381
        },
        "outputId": "d6e0a22c-bf36-4e28-ddae-d71f73542231"
      },
      "source": [
        "#@title\n",
        "import numpy as np\n",
        "import matplotlib.pyplot as plt\n",
        "\n",
        "# properties of spring\n",
        "k = 5 # N/m\n",
        "m = 2  # kg  \n",
        "w = np.sqrt(k/m) # rad/s \n",
        "phi = 0\n",
        "A   = 0.5  # m\n",
        "\n",
        "period = 2*np.pi/w\n",
        "frequency = 1/period\n",
        "\n",
        "print(\"Period:\",period,\"seconds\",sep=\" \")\n",
        "print(\"Frequency:\",frequency,\"Hz\",sep=\" \")\n",
        "print(\"k: \",k,\"N/m\",sep=\" \")\n",
        "\n",
        "def position(t):\n",
        "    global w,phi,A\n",
        "    return A*np.sin(w*t+phi)\n",
        "\n",
        "def velocity(t):\n",
        "    global w,phi,A\n",
        "    return A*w*np.cos(w*t+phi)\n",
        "\n",
        "def acceleration(t):\n",
        "    global w,phi,A\n",
        "    return -A*w**2*np.sin(w*t+phi)\n",
        "\n",
        "ntime=100\n",
        "\n",
        "tfinal= 20 # seconds\n",
        "\n",
        "tstep=tfinal/(ntime-1)\n",
        "\n",
        "t=np.zeros(ntime)\n",
        "x=np.zeros(ntime)\n",
        "v=np.zeros(ntime)\n",
        "a=np.zeros(ntime)\n",
        "\n",
        "for i in range(ntime):\n",
        "    \n",
        "    t[i] = tstep*i\n",
        "    x[i] = position(t[i])\n",
        "    v[i] = velocity(t[i])\n",
        "    a[i] = acceleration(t[i])\n",
        "\n",
        "\n",
        "print()\n",
        "print('Plots for postion, velocity, and acceleration')\n",
        "print()\n",
        "\n",
        "plt1=plt.plot(t,x,color=\"red\",ls=\"-\",lw=1,label='position [m]')\n",
        "\n",
        "plt.xlabel('time (s)')\n",
        "\n",
        "#plt.label('x(t) (m)')\n",
        "\n",
        "#plt.show()\n",
        "\n",
        "#plt.ylabel('v(t) (m/s)')\n",
        "\n",
        "plt2=plt.plot(t,v,color=\"blue\",ls=\"--\",lw=1,label='velocity [m/s]')\n",
        "\n",
        "#plt.show()\n",
        "\n",
        "#plt.ylabel('acceleration (m/s^2)')\n",
        "\n",
        "plt3=plt.plot(t,a,color=\"green\",ls=\"dotted\",lw=1,label='acceleration [m/s^2]')\n",
        "\n",
        "plt.legend(['position','velocity','acceleration'],loc='lower right')\n",
        "\n",
        "plt.show()"
      ],
      "execution_count": null,
      "outputs": [
        {
          "output_type": "stream",
          "text": [
            "Period: 3.97383530631844 seconds\n",
            "Frequency: 0.2516460605224352 Hz\n",
            "k:  5 N/m\n",
            "\n",
            "Plots for postion, velocity, and acceleration\n",
            "\n"
          ],
          "name": "stdout"
        },
        {
          "output_type": "display_data",
          "data": {
            "image/png": "[encoded data removed]",
            "text/plain": [
              "<Figure size 432x288 with 1 Axes>"
            ]
          },
          "metadata": {
            "tags": [],
            "needs_background": "light"
          }
        }
      ]
    },
    {
      "cell_type": "markdown",
      "metadata": {
        "id": "AWZaTCNXLMQR"
      },
      "source": [
        "\n",
        "\n",
        "\n",
        "# **Hamiltonian and connection to quantum mechanics**\n",
        "\n",
        " The total energy of the oscillator is thus given by the Hamiltonian\n",
        "\n",
        "\\begin{eqnarray}\n",
        " E&=&H,\\cr\n",
        "   &=& \\text{kinetic energy + potential energy},\\cr  \n",
        "   &=&\\frac{p^2}{2m}+V(x),\\cr\n",
        "   &=&\\frac{p^2}{2m}+\\frac{1}{2}m\\omega^2x^2,\n",
        " \\end{eqnarray}\n",
        "\n",
        "where the $p$ is the momentum.\n",
        "\n",
        " At this point, the standard approach to quantazation can be applied, by replacing the classical momentum by the correspondign quantum-mechanical operator $p^2\\rightarrow -\\frac{\\hbar^2}{2m}\\frac{d^2}{dx^2}$, so that Hamiltionian becomes a second-order differential operator \n",
        "\n",
        "\\begin{eqnarray}\n",
        " H&=&-\\frac{\\hbar^2}{2m}\\frac{d^2}{dx^2}+\\frac{1}{2}m\\omega^2x^2.\n",
        " \\end{eqnarray}\n",
        "\n",
        "The quantum-mechanical solution is a wavefunction given as the solution to the **eigenvalue equation**\n",
        "\n",
        "\\begin{eqnarray}\n",
        " H\\psi&=&E\\psi,\\cr\n",
        "\\end{eqnarray} \n",
        "\n",
        "or \n",
        "\n",
        "\\begin{eqnarray}\n",
        " \\left(-\\frac{\\hbar^2}{2m}\\frac{d^2}{dx^2}+\\frac{1}{2}m\\omega^2x^2\\right)\\psi&=&E\\psi.\\cr\n",
        "\\end{eqnarray} \n"
      ]
    }
  ]
}