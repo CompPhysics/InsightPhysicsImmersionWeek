{
  "nbformat": 4,
  "nbformat_minor": 0,
  "metadata": {
    "colab": {
      "name": "NumpyForScientificPythonipynb",
      "provenance": []
    },
    "kernelspec": {
      "name": "python3",
      "display_name": "Python 3"
    },
    "language_info": {
      "name": "python"
    }
  },
  "cells": [
    {
      "cell_type": "markdown",
      "metadata": {
        "id": "7RG09uYDHt1n"
      },
      "source": [
        "# NumPy for Scientific Python\n",
        "\n",
        "Julie Butler \n",
        "\n",
        "June 2021\n",
        "\n",
        "Physics Immersion Week\n",
        "\n",
        "Pre-Reading Notebook **2/4**\n",
        "\n",
        "Please complete this notebook before class on June 21, 2021.\n",
        "\n",
        "</br>\n",
        "\n",
        "If you have any questions while working through this notebook, please feel free to contact Julie BUtler at butle222@msu.edu or Morten Hjorth-Jensen at hjensen@msu.edu.\n",
        "\n",
        "</br>\n",
        "\n",
        "If you want to use this notebook in Google Colab click [this link](https://colab.research.google.com/drive/1t1MTpW0jyObueAYuMfNEG6ssKQQ0MBoW?usp=sharing) (make sure you are logged into your Google account).  Once the webpage opens up click `File > Save copy a in Drive'.  Then go to your own Google Drive account and use the copy.\n",
        "\n",
        "</br>\n",
        "\n",
        "NumPy (also written as Numpy or numpy) is a library that is often used in Python for scientific applications.  Numpy allows the user the ability to store data in vectors or matrices and to easily perform calculations with these data structures.\n",
        "\n",
        "## Importing Numpy\n",
        "\n",
        "We covered the four methods of importing a library in the previous notebook.  While all four methods are valid for importing the NumPy library, the code cell below shows the import statement that almost all Python programmers use.\n",
        "\n"
      ]
    },
    {
      "cell_type": "code",
      "metadata": {
        "id": "I6VxZYmqIX-i"
      },
      "source": [
        "import numpy as np"
      ],
      "execution_count": 2,
      "outputs": []
    },
    {
      "cell_type": "markdown",
      "metadata": {
        "id": "5KjFJ9nvIXQm"
      },
      "source": [
        "## Arrays\n",
        "\n",
        "An array is a Python structure that holds a string of data. Arrays are commonly used in scientific Python.  It is useful because they can be used to represent either a vector or a matrix (if these words are not familiar to you don't worry!  We will cover basic linear algebra concepts during class.).  A vector is a one dimensional string of numbers and a matrix is a two dimensional \"table\" of numbers.  You can also think of a matrix as a vector of vectors.\n",
        "\n",
        "### Creating Arrays\n",
        "\n",
        "Vectors are extremely useful in physics and we will be using them a lot this week.  In programming we use a structure called an array to represent a vector.  NumPy makes it very easy to create an array (but note you have to have the `[]` inside the parentheses).  To make an array with three numbers, you can do the following. Each of the numbers in the array is referred to as an element of that array (i.e. 1.25 is the first element in my_array).\n"
      ]
    },
    {
      "cell_type": "code",
      "metadata": {
        "colab": {
          "base_uri": "https://localhost:8080/"
        },
        "id": "IoikCQFKIS-_",
        "outputId": "b5660bf6-e523-46f9-d541-c845d11f4f1c"
      },
      "source": [
        "my_array = np.array([1.25, 2.5, 3.75])\n",
        "print(my_array)"
      ],
      "execution_count": null,
      "outputs": [
        {
          "output_type": "stream",
          "text": [
            "[1 2 3]\n"
          ],
          "name": "stdout"
        }
      ]
    },
    {
      "cell_type": "markdown",
      "metadata": {
        "id": "airIJo_vIgRP"
      },
      "source": [
        "NumPy arrays can be made with any number of elements you like, and they don't have to contain just numbers.  You can also make an array that contains strings."
      ]
    },
    {
      "cell_type": "code",
      "metadata": {
        "id": "sJUICkJLIrDX"
      },
      "source": [
        "my_array_of_numbers = np.array([1, 2, 3, 4, 5])\n",
        "my_array_of_strings = np.array(['Julie', 'Morten', 'Linda', 'Yani'])\n",
        "\n",
        "print(my_array_of_numbers)\n",
        "print(my_array_of_strings)"
      ],
      "execution_count": null,
      "outputs": []
    },
    {
      "cell_type": "markdown",
      "metadata": {
        "id": "_A2Q5KRzP8mL"
      },
      "source": [
        "Additionally, each element in an array can be another array.  We call this a 2D array and they are used in scientific applications to represent matrices.  Carefully note where brackets are in the below statement as that is important to setting up a 2D array correctly."
      ]
    },
    {
      "cell_type": "code",
      "metadata": {
        "colab": {
          "base_uri": "https://localhost:8080/"
        },
        "id": "Qf3zswK_Qm9d",
        "outputId": "4ffc71da-8989-4007-db70-6187e4d25ca8"
      },
      "source": [
        "my_2d_array = np.array([[1,2,3], [4,5,6]])\n",
        "\n",
        "print(my_2d_array)"
      ],
      "execution_count": null,
      "outputs": [
        {
          "output_type": "stream",
          "text": [
            "<class 'numpy.ndarray'>\n"
          ],
          "name": "stdout"
        }
      ]
    },
    {
      "cell_type": "markdown",
      "metadata": {
        "id": "GFXIlVsaJ8Tc"
      },
      "source": [
        "**EXERCISE 1:** In the code cell below use NumPy to create an array.  It can contain as many elements as you like and they can be numbers, strings, or arrays.  After you create the array, print it out and make sure it is storing the elements that you think it should."
      ]
    },
    {
      "cell_type": "code",
      "metadata": {
        "id": "M5aNMzBvJ8fk"
      },
      "source": [
        ""
      ],
      "execution_count": null,
      "outputs": []
    },
    {
      "cell_type": "markdown",
      "metadata": {
        "id": "3ietEA2zISFu"
      },
      "source": [
        "### Finding Length of Arrays\n",
        "\n",
        "There are times where you will want to know the length of an array you have created.  Since arrays can have variable length that may change during the program, we need a way to computationally find its length.  Luckily, finding the length of an array in Python is fairly easy.  Given an array named `my_array`, the length of the array can be found simply by:"
      ]
    },
    {
      "cell_type": "code",
      "metadata": {
        "colab": {
          "base_uri": "https://localhost:8080/"
        },
        "id": "7eOtKLqfSFL7",
        "outputId": "89e6b0ef-6c4b-43c7-b818-56496b95a0d7"
      },
      "source": [
        "my_array = np.array([1, 2, 3])\n",
        "print(\"The length of my_array is\", len(my_array))"
      ],
      "execution_count": null,
      "outputs": [
        {
          "output_type": "stream",
          "text": [
            "The length of my_array is 3\n"
          ],
          "name": "stdout"
        }
      ]
    },
    {
      "cell_type": "markdown",
      "metadata": {
        "id": "ZZp4ij_USe-q"
      },
      "source": [
        "The `len()` statement allows you to simply find the length on an array.  Note that this only gives you the lenght of the outer dimension of the array, so for a 2D array it will only tell you the number of rows, but not the number of columns."
      ]
    },
    {
      "cell_type": "code",
      "metadata": {
        "colab": {
          "base_uri": "https://localhost:8080/"
        },
        "id": "cyH_jlMgSuV1",
        "outputId": "5a105c9d-75a9-47ea-b01b-a5770f2a8b92"
      },
      "source": [
        "my_2d_array = np.array([[1,2,3], [4,5,6]])\n",
        "print(len(my_2d_array))"
      ],
      "execution_count": null,
      "outputs": [
        {
          "output_type": "stream",
          "text": [
            "2\n"
          ],
          "name": "stdout"
        }
      ]
    },
    {
      "cell_type": "markdown",
      "metadata": {
        "id": "KfJsh2edS2WZ"
      },
      "source": [
        "An alternative to `len()` is `.shape` which will give the number of rows and the number of columns of a 2D array all at once."
      ]
    },
    {
      "cell_type": "code",
      "metadata": {
        "colab": {
          "base_uri": "https://localhost:8080/"
        },
        "id": "uwksb_gDS9xn",
        "outputId": "a884175f-018d-4c31-ed6f-b66984038e07"
      },
      "source": [
        "print(my_2d_array.shape)"
      ],
      "execution_count": null,
      "outputs": [
        {
          "output_type": "stream",
          "text": [
            "(2, 3)\n"
          ],
          "name": "stdout"
        }
      ]
    },
    {
      "cell_type": "markdown",
      "metadata": {
        "id": "2IFJUnbm1F5y"
      },
      "source": [
        "**EXERCISE 2:** Create an array containing any elements in the code cell below (numbers, strings, or a 2D array).  Print the lenght of the array using the `len()` function then print the shape using the `.shape` keyword."
      ]
    },
    {
      "cell_type": "code",
      "metadata": {
        "id": "btLbAOAb1GE6"
      },
      "source": [
        ""
      ],
      "execution_count": null,
      "outputs": []
    },
    {
      "cell_type": "markdown",
      "metadata": {
        "id": "T9Xt0eapR7dl"
      },
      "source": [
        "### Array Indexing\n",
        "\n",
        "Array indexing is a method to extract specific elements from an array.  Each element in an array is assigned an index that describes its location in the array.  The first element in an array has index 0, the second element in the array has index 1, and so on.  Note that the indexes, like many other things in programming begins counting at zero.  To extract an element from an array given an index you can use the following method, where the index of interest goes in square brackets right after the name of the array:"
      ]
    },
    {
      "cell_type": "code",
      "metadata": {
        "colab": {
          "base_uri": "https://localhost:8080/"
        },
        "id": "YGoTeQjX-0u-",
        "outputId": "c8cf43d3-7a5f-4521-8211-bccb9a28055f"
      },
      "source": [
        "my_array = np.array([1, 2, 3, 4, 5])\n",
        "\n",
        "index = 3\n",
        "\n",
        "my_element = my_array[index]\n",
        "\n",
        "print(my_element)"
      ],
      "execution_count": null,
      "outputs": [
        {
          "output_type": "stream",
          "text": [
            "4\n"
          ],
          "name": "stdout"
        }
      ]
    },
    {
      "cell_type": "markdown",
      "metadata": {
        "id": "1yxK-iiH_INx"
      },
      "source": [
        "Remember that using an index of three will give me the fourth element of my array since indexing starts numbering from zero.\n",
        "\n",
        "When extracting a single element from a 2D array, you need to use a set of double index calls.  The first index call tells which row the number is on (or which inner array it is is) and the second number tells which column (or its location in the inner array). See the example below:"
      ]
    },
    {
      "cell_type": "code",
      "metadata": {
        "colab": {
          "base_uri": "https://localhost:8080/"
        },
        "id": "rIp4aDIVFuB3",
        "outputId": "d2699a05-c72c-44c9-f6d3-708fec22927a"
      },
      "source": [
        "# Create a 2D array\n",
        "my_2d_array = np.asarray([[1, 2, 3],[4, 5, 6]])\n",
        "\n",
        "# Let's see what happens when we only use a single index\n",
        "test1 = my_2d_array[0]\n",
        "\n",
        "print (\"With a single index call my result is\", test1)\n",
        "\n",
        "# Now let's see what happens when we use a double index call\n",
        "test2 = my_2d_array[0][0]\n",
        "\n",
        "print(\"With a double index call my result is\", test2)"
      ],
      "execution_count": null,
      "outputs": [
        {
          "output_type": "stream",
          "text": [
            "With a single index call my result is [1 2 3]\n",
            "With a double index call my result is 1\n"
          ],
          "name": "stdout"
        }
      ]
    },
    {
      "cell_type": "markdown",
      "metadata": {
        "id": "43mf4nWeFmta"
      },
      "source": [
        "When we have a double array and use a single index call, we get one of the innder arrays.  This makes sense since a double array is just an array with all of its elements set to other arrays.  When we use a double index call on a 2D array we get back one number.\n",
        "\n",
        "**EXERCISE 3:** Create a 2D array that has at least three inner arrays, each with three elements.  Using array indexing, print out the first row (i.e. the first inner array).  Then using array indexing, print out the second element of the third inner array."
      ]
    },
    {
      "cell_type": "code",
      "metadata": {
        "id": "CbMTZkQaFm6X"
      },
      "source": [
        ""
      ],
      "execution_count": null,
      "outputs": []
    },
    {
      "cell_type": "markdown",
      "metadata": {
        "id": "HSmtAA00S1jZ"
      },
      "source": [
        "### Creating Arrays Through NumPy.Zeros\n",
        "\n",
        "### Looping Through Arrays\n",
        "\n",
        "Many applications of NumPy arrays will require making changes to every element of the array.  Typically this is done with a for loop, and there are two commonly used ways to set up a for loop for this task.\n",
        "\n",
        "#### Method 1: Array Indexing\n",
        "\n",
        "The first method of looping through an array simply involves using the variable in the for loop as the index to access each element of the array in order.  We simply set the bounds of the `range` statement to start with an index of zero and to stop when the index is equal to the lenght of the array (since the largest possible index an array can have is its length minus one).  In practice we can do something like this to loop through an array:"
      ]
    },
    {
      "cell_type": "code",
      "metadata": {
        "colab": {
          "base_uri": "https://localhost:8080/"
        },
        "id": "zA5KOrTFTjSG",
        "outputId": "7c425eac-84dc-4e03-d02d-df86de230238"
      },
      "source": [
        "# Create an araray\n",
        "my_array = np.array([1, 2, 3, 4, 5])\n",
        "\n",
        "# Find length of array\n",
        "length = len(my_array)\n",
        "\n",
        "# Use the range statement to loop over all possible indexes \n",
        "for i in range(0, length):\n",
        "    # Print the element at the current index\n",
        "    print(my_array[i])\n",
        "    # Change the element at the current index\n",
        "    my_array[i] = my_array[i]*i\n",
        "\n",
        "print (\"The new array is\", my_array)"
      ],
      "execution_count": null,
      "outputs": [
        {
          "output_type": "stream",
          "text": [
            "1\n",
            "2\n",
            "3\n",
            "4\n",
            "5\n",
            "The new array is [ 0  2  6 12 20]\n"
          ],
          "name": "stdout"
        }
      ]
    },
    {
      "cell_type": "markdown",
      "metadata": {
        "id": "sDodQTeKgHrH"
      },
      "source": [
        "Note that changes to the element in the for loop remain once the loop has finished.  "
      ]
    },
    {
      "cell_type": "markdown",
      "metadata": {
        "id": "hu1TCCvWLaZu"
      },
      "source": [
        "#### Method 2: Direct Looping\n",
        "\n",
        "The second method of looping through an array requires a small change in the for statement.  Instead of using the `range` statement after the `in` keyword, we simple type the name of our array.  This method of setting up the for loop means that the variable that is declared after the `for` keyword sequentially takes on the value of each element in the array in order.  Let's see how this works in practice."
      ]
    },
    {
      "cell_type": "code",
      "metadata": {
        "colab": {
          "base_uri": "https://localhost:8080/"
        },
        "id": "8rY7UVPjU_jb",
        "outputId": "aee3c6c3-5a0d-4156-ea95-a6f1d1fad077"
      },
      "source": [
        "# Create a new array\n",
        "names_array = np.array(['Julie', 'Morten', 'Linda', 'Christian'])\n",
        "\n",
        "# Use the for statement to loop over each element of the array\n",
        "for name in names_array:\n",
        "    # Print out the current element\n",
        "    print(\"The name of my teacher is\", name)\n",
        "    # Change the current element\n",
        "    name = 'Bob'\n",
        "\n",
        "print('The array after the loop is', names_array)"
      ],
      "execution_count": null,
      "outputs": [
        {
          "output_type": "stream",
          "text": [
            "The name of my teacher is Julie\n",
            "The name of my teacher is Morten\n",
            "The name of my teacher is Linda\n",
            "The name of my teacher is Christian\n",
            "The array after the loop is ['Julie' 'Morten' 'Linda' 'Christian']\n"
          ],
          "name": "stdout"
        }
      ]
    },
    {
      "cell_type": "markdown",
      "metadata": {
        "id": "ACD4x7mSdyO9"
      },
      "source": [
        "When using this method of iterating through a for loop, you cannot change the value of the elements in the array.  In practice you will typically use the \"direct looping\" method when you do not want to change the values stored in the array and the \"array indexing\" method when you do want to change the values.  Both methods can be very useful in their specific applications.\n",
        "\n",
        "**EXERCISE 4:** Create an array containing any elements in the code cell below.  Then use the \"array indexing\" method to loop through each element of the array and somehow change them.  Finally use the \"direct looping\" method to individually print each element of the changed array."
      ]
    },
    {
      "cell_type": "code",
      "metadata": {
        "id": "fh5HdZqw1D40"
      },
      "source": [
        ""
      ],
      "execution_count": null,
      "outputs": []
    },
    {
      "cell_type": "markdown",
      "metadata": {
        "id": "iX-zTgXjU-rX"
      },
      "source": [
        "## Operators with NumPy Arrays\n",
        "\n",
        "NumPy provides many ways to manipulate arrays.  You can read about that [here](http://scipy-lectures.org/intro/numpy/operations.html#sorting-data), but this notebook will only cover two methods that will be used in this week's classes: finding the minimum and maximum element and performing math with arrays.\n",
        "\n",
        "### Finding Minimums and Maximums\n",
        "\n",
        "A common problem in physics is to find the maximum or a minimum or some calculation.  You are already familiar with this type of calculation from an introductory mechanics class (ex. how high does the ball go after being kicked).  Since physical data is often stored in NumPy arrays in Python programs, it will be useful to have a way to find the maximum and minimum elements of the array.  Luckily NumPy has an easy way to accomplish this throuhg `np.min` and `np.max`.\n"
      ]
    },
    {
      "cell_type": "code",
      "metadata": {
        "colab": {
          "base_uri": "https://localhost:8080/"
        },
        "id": "meFtjHeA1bRy",
        "outputId": "3d4b5892-7ccc-4267-e75f-ace366bee4ec"
      },
      "source": [
        "# Create an array of numbers\n",
        "my_data = np.array([3.4, 7.34, 2.4, 8.54, 4.32, 7.3])\n",
        "# Find the element with the highest value in the array\n",
        "print(\"The largest number in the array is\", np.max(my_data))\n",
        "# Find the element with the lowest value in the array\n",
        "print(\"The smallest number in the array is\", np.min(my_data))"
      ],
      "execution_count": null,
      "outputs": [
        {
          "output_type": "stream",
          "text": [
            "The largest number in the array is 8.54\n",
            "The smallest number in the array is 2.4\n"
          ],
          "name": "stdout"
        }
      ]
    },
    {
      "cell_type": "markdown",
      "metadata": {
        "id": "pp7AlyfFCMHk"
      },
      "source": [
        "**EXERCISE 5:** Create a NumPy array in the code cell below.  Then print out the minimum and maximum elements in the array using `np.min` and `np.max`."
      ]
    },
    {
      "cell_type": "code",
      "metadata": {
        "id": "08dJLGTqCMah"
      },
      "source": [
        ""
      ],
      "execution_count": null,
      "outputs": []
    },
    {
      "cell_type": "markdown",
      "metadata": {
        "id": "CPZncHxL1cF3"
      },
      "source": [
        "### Doing Math with Arrays\n",
        "\n",
        "#### Basics Equations\n",
        "\n",
        "\n",
        "NumPy arrays can be used be used much like variables can in an equation.  For example, if I make the variables a and b to represent numbers, then I can do the following:\n",
        "\n",
        "\n"
      ]
    },
    {
      "cell_type": "code",
      "metadata": {
        "id": "Dv-tXCKTH2Z-"
      },
      "source": [
        "# Create two variables\n",
        "a = 1.25\n",
        "b = 3.6\n",
        "\n",
        "# Add and subtract the two variables\n",
        "add = a+b\n",
        "subtract = a-b\n",
        "\n",
        "# Print the results\n",
        "print(add)\n",
        "print(subtract)"
      ],
      "execution_count": null,
      "outputs": []
    },
    {
      "cell_type": "markdown",
      "metadata": {
        "id": "TeumrO4GzWVF"
      },
      "source": [
        "We can use variables that equal numbers in math equation.  Likewise, we can do a very similar thing with arrays (just note that the arrays have to be the same dimension)."
      ]
    },
    {
      "cell_type": "code",
      "metadata": {
        "colab": {
          "base_uri": "https://localhost:8080/"
        },
        "id": "4ZC8VNa-3IHN",
        "outputId": "18d21397-928c-45ef-a8eb-019938a12066"
      },
      "source": [
        "# Create two arrays\n",
        "a = np.array([1, 2, 3])\n",
        "b = np.array([4, 5, 6])\n",
        "\n",
        "# Add and subtract the two variables\n",
        "add = a+b\n",
        "subtract = a-b\n",
        "\n",
        "# Print the results\n",
        "print(add)\n",
        "print(subtract)"
      ],
      "execution_count": 3,
      "outputs": [
        {
          "output_type": "stream",
          "text": [
            "[5 7 9]\n",
            "[-3 -3 -3]\n"
          ],
          "name": "stdout"
        }
      ]
    },
    {
      "cell_type": "markdown",
      "metadata": {
        "id": "7OnHkAAv3T0v"
      },
      "source": [
        "There are also other ways to do basic mathematics with arrays.  For example I can add 3 to every element in an array with the following syntax:"
      ]
    },
    {
      "cell_type": "code",
      "metadata": {
        "colab": {
          "base_uri": "https://localhost:8080/"
        },
        "id": "4McyU-973bQE",
        "outputId": "90121133-0d74-4c8d-f472-c785f0a453ea"
      },
      "source": [
        "a = np.array([1, 2, 3, 4])\n",
        "a = a + 3\n",
        "print(a)"
      ],
      "execution_count": 4,
      "outputs": [
        {
          "output_type": "stream",
          "text": [
            "[4 5 6 7]\n"
          ],
          "name": "stdout"
        }
      ]
    },
    {
      "cell_type": "markdown",
      "metadata": {
        "id": "bmQ4OlFQ3hxR"
      },
      "source": [
        "I can also use NumPy arrays as variables in equations.  For example, if I wanted to make some data that matched a cubic equation I can do the following (the `**` symbol is an exponent):"
      ]
    },
    {
      "cell_type": "code",
      "metadata": {
        "colab": {
          "base_uri": "https://localhost:8080/"
        },
        "id": "J338_x203sTr",
        "outputId": "79d6e21c-dd9f-4701-a08d-bf78e4f71293"
      },
      "source": [
        "x = np.array([1, 2, 3, 4, 5, 6])\n",
        "\n",
        "y = x**3 + 2*x**2\n",
        "\n",
        "print(y)"
      ],
      "execution_count": 5,
      "outputs": [
        {
          "output_type": "stream",
          "text": [
            "[  3  16  45  96 175 288]\n"
          ],
          "name": "stdout"
        }
      ]
    },
    {
      "cell_type": "markdown",
      "metadata": {
        "id": "44DWZB9m37TL"
      },
      "source": [
        "**EXERCISE 6:** Make two 1D arrays of the same length, call them a and b.\n",
        "\n",
        "1. Add them together and print the result.\n",
        "2. Multiply a by 2 and divide b by 4.  Print the new values of a and b\n",
        "3. Plug a into any quadratic equation and print the resulting data."
      ]
    },
    {
      "cell_type": "code",
      "metadata": {
        "id": "JufiEppv37aF"
      },
      "source": [
        ""
      ],
      "execution_count": null,
      "outputs": []
    }
  ]
}