{
 "cells": [
  {
   "cell_type": "markdown",
   "metadata": {},
   "source": [
    "# The Classical Two-Body Problem\n",
    "\n",
    "Physics Immersion Week Day 1\n",
    "\n",
    "June 21, 2021\n",
    "\n",
    "Lecturer: Julie Butler"
   ]
  },
  {
   "cell_type": "markdown",
   "metadata": {},
   "source": [
    "# Velocity-Verlet Method (Review from Pre-Course Assignments)\n",
    "\n"
   ]
  },
  {
   "cell_type": "markdown",
   "metadata": {},
   "source": [
    "## Need to Discretize\n",
    "\n",
    "* Most physics equations are written to use a continous variable or to solve for a continous equation\n",
    "\n",
    "$$v(t) = \\int_{t_0}^t a dt = v_0 + at,$$\n",
    "\n",
    "* Computers cannot handle solving for continuous equations so therefore we must rewrite equations in a discretized form (with respect to time):\n",
    "\n",
    "$$t = \\{t_0, t_0 + \\Delta t, t_0 + 2\\Delta t, t_0 + 3\\Delta t, ...\\} = \\{t_0, t_1, t_2, t_3, ...\\}$$\n",
    "\n",
    "* $\\Delta t$ is some tiny chunk of time (typically $\\Delta$t << 1).  The smaller the value the closer to the true (continuous) solution"
   ]
  },
  {
   "cell_type": "markdown",
   "metadata": {},
   "source": [
    "## Velocity-Verlet Equations (Order is Important)\n",
    "\n",
    "$$x_{i+1} = x_i + v_i\\Delta t + \\frac{(\\Delta t)^2}{2}a_i$$\n",
    "\n",
    "$$v_{i+1} = v_i + \\frac{\\Delta t}{2}(a_{i+1} + a_i)$$\n",
    "\n",
    "Solve the differential equations for velocity and position but in a discretized method suitable for computational applications.\n",
    "\n",
    "$$x(t) = \\int_{t_0}^t\\int_{t_0}^t adt = \\int_{t_0}^t (v_0 + at)dt = x_0 + v_0t + \\frac{1}{2}at^2$$\n",
    "\n",
    "$$v(t) = \\int_{t_0}^t a dt = v_0 + at,$$\n",
    "\n",
    "The Velocity-Verlet method is unique among computational solvers of its kind (Euler, Euler-Cromer) because it conserves energy if the system should conserve energy."
   ]
  },
  {
   "cell_type": "markdown",
   "metadata": {},
   "source": [
    "## Newton's Laws\n",
    "\n",
    "\n",
    "### First Law\n",
    "* A body in motion will move at a constant speed in a straight line unless acted on by an outside force\n",
    "\n",
    "### Second Law\n",
    "* F = ma $\\quad$ $\\rightarrow$ $\\quad$ a = F/m\n",
    "* Forces are the cause of all motion an object experiences besides moving in a constant velocity in a straight line\n",
    "\n",
    "### Third Law\n",
    "* Equal and opposite forces (F$_{12}$ = -F$_{21}$)\n",
    "* This law will be very important when we look at the two-body problem\n"
   ]
  },
  {
   "cell_type": "markdown",
   "metadata": {},
   "source": [
    "# The Classical Two-Body Problem"
   ]
  },
  {
   "cell_type": "markdown",
   "metadata": {},
   "source": [
    "## The Classical Two-Body Problem\n",
    "\n",
    "* Seeks to describe the motion that comes from two interacting objects\n",
    "    * Gravitational force between two very large objects\n",
    "    * Electric force between two charged objects\n",
    "    * Forces between two particle (i.e. nucleons, atoms, molecules)\n",
    "* Since the force depends on another object, and especially the distance between two objects, this is a much more complicated problem than when considering a constant force on an object.\n",
    "* Also note that due to Newton's third law, for each pair of interacting objects there are two forces."
   ]
  },
  {
   "cell_type": "markdown",
   "metadata": {},
   "source": [
    "## Relative and Center-of-Mass Coordinates\n",
    "\n",
    "Given as system :\n",
    "* Object 1 is at location $\\vec{r}_1$ and has mass m$_1$\n",
    "* Object 2 is at location $\\vec{r}_2$ and has mass m$_2$\n",
    "\n",
    "We have two ways we can describe the location of our system\n",
    "\n",
    "### Relative Coordinates\n",
    "\n",
    "Choose one object in the system to be the origin.  Describe every other object in the system by it position **relative** to the object at the origin.  The origin will move with the chosen object.\n",
    "\n",
    "$$\\vec{r} = \\vec{r}_1 - \\vec{r}_2$$\n",
    "\n",
    "With these coordinates we do not care what object 2's location is with respect to an arbitrary origin, only where it is located with respect to object 1.\n",
    "\n",
    "\n",
    "### Center-of-Mass Coordinates\n",
    "\n",
    "In center-of-mass coordinates we do not try to describe where each object of our system is.  Instead, we only care about where the center of mass is.  The is an especially popular coordinate system when we have a system consisting of many objects.\n",
    "\n",
    "$$\\vec{R} = \\frac{m_1r_1 + m_2r_2}{m_1 + m_2}$$"
   ]
  },
  {
   "cell_type": "markdown",
   "metadata": {},
   "source": [
    "## Specific Two-Body Example: Earth-Sun Problem\n",
    "\n",
    "One of the most common examples of a two-body problem\n",
    "\n",
    "</br>\n",
    "\n",
    "Newtonian Gravitational Force:\n",
    "$$\\vec{F}_G(\\vec{r}) = -G\\frac{m_1m_2}{|\\vec{r}_1 - \\vec{r}_2|^2} \\hat{r}_{12}$$\n",
    "\n",
    "</br>\n",
    "\n",
    "Note that the above equation can also be written as:\n",
    "\n",
    "$$\\vec{F}_G(\\vec{r}) = -G\\frac{m_1m_2}{|\\vec{r}_1 - \\vec{r}_2|^3} \\vec{r}_{12}$$\n",
    "\n",
    "because $\\hat{r} = \\vec{r}/|\\vec{r}|$. \n",
    "\n",
    "Specific Case (Earth-Sun System):\n",
    "$$\\vec{F}_G(\\vec{r}) = -G\\frac{m_\\bigodot m_E}{|\\vec{r}|^2} \\hat{r}$$\n",
    "\n",
    "</br>\n",
    "\n",
    "</br>\n",
    "\n",
    "|Symbol| Meaning | Value |\n",
    "|------|---------|-------|\n",
    "| G| Gravitational Constant | 6.67e-11 $\\frac{Nm^2}{kg^2}$ |\n",
    "|m$_E$ | Mass of Earth | 6e24 kg |\n",
    "|m$_\\bigodot$ | Mass of Sun | 2e30 kg|\n",
    "| $\\vec{r}$ | Distance from Earth to Sun | 1.5e11 m|\n",
    "\n",
    "The Sun serves as the origin of our system, so we will be using relative coordinates for this problem\n",
    "\n",
    "\n",
    "Note that $\\vec{r}$ is measured from the _center_ of the Sun to the _center_ of the Earth.\n",
    "\n"
   ]
  },
  {
   "cell_type": "markdown",
   "metadata": {},
   "source": [
    "## Acceleration of the Earth Due to the Sun\n",
    "\n",
    "$$\\vec{F}_{G,E}(\\vec{r}) = -G\\frac{m_\\bigodot}{|\\vec{r}|^2} m_E\\hat{r} \\quad \\rightarrow \\quad a_{G,E} = -G\\frac{m_\\bigodot}{|\\vec{r}|^2}\\hat{r}$$\n",
    "\n",
    "* Note that unlike many other problems you have encountered, this acceleration is not constant.  It changes as the Earth's distance from the Sun changes.\n",
    "* From the pre-course assignements we know that an acceleration over time causes a velocity and a velocity over time causes a change in position.  **But**, the change in position will cause a change in the acceleration.\n",
    "* This puts us in a calculation loop, which is exactly the type of problem computers excel at!\n",
    "* Assumption: We assume that since the Sun is at the origin, in our relative coordinate frame it is not moving.  So we do not need to worry about calculating forces on the Sun."
   ]
  },
  {
   "cell_type": "markdown",
   "metadata": {},
   "source": [
    "# Introduction to the Computational Exercise"
   ]
  },
  {
   "cell_type": "markdown",
   "metadata": {},
   "source": [
    "## Group Learning Activity: Computationally Modelling the Earth-Sun System with the Velocity-Verlet Method\n",
    "\n",
    "* In groups of 2-3 complete the activity in [this notebook](Day1Activity1.ipynb).  Each of you needs to complete the notebook, but you can work together to solve the exercises.\n",
    "\n",
    "* If your group completes this activity, then move onto the bonus activities.  The last bonus activity will have you doing atomic physics with the skills you learned today!\n",
    "\n",
    "* Homework for today is posted on the schedule page of the course website.  Make sure you complete these assignments by class tomorrow!"
   ]
  }
 ],
 "metadata": {
  "kernelspec": {
   "display_name": "Python 3",
   "language": "python",
   "name": "python3"
  },
  "language_info": {
   "codemirror_mode": {
    "name": "ipython",
    "version": 3
   },
   "file_extension": ".py",
   "mimetype": "text/x-python",
   "name": "python",
   "nbconvert_exporter": "python",
   "pygments_lexer": "ipython3",
   "version": "3.7.3"
  }
 },
 "nbformat": 4,
 "nbformat_minor": 4
}
