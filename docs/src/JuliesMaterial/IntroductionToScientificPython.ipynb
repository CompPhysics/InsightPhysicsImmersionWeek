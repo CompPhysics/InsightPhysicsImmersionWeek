{
 "cells": [
  {
   "cell_type": "markdown",
   "metadata": {
    "id": "-FgErHtVwtwI"
   },
   "source": [
    "# An Introduction To Scientific Python\n",
    "\n",
    "Julie Butler \n",
    "\n",
    "June 2021\n",
    "\n",
    "INSIGHT Program Physics Immersion Week\n",
    "\n",
    "Pre-Course Notebook **1/4**\n",
    "\n",
    "Please complete this notebook before class on June 21, 2021.\n",
    "\n",
    "</br>\n",
    "\n",
    "If you have any questions while working through this notebook, please feel free to contact Julie Butler at butle222@msu.edu or Morten Hjorth-Jensen at hjensen@msu.edu.\n",
    "\n",
    "</br>\n",
    "\n",
    "If you want to use this notebook in Google Colab click [this link](https://colab.research.google.com/drive/1dIC9whCKBiK5o8nK4Wh5x5gUkiJ7TXaJ?usp=sharing) (make sure you are logged into your Google account).  Once the webpage opens up click `File > Save copy a in Drive'.  Then go to your own Google Drive account and use the copy.\n",
    "\n",
    "</br>\n",
    "\n",
    "**WARNING**: This notebook is not intended to be an all-inclusive introduction to the Python programming language.  Rather it is meant to briefly introduce several programming concepts which are needed to solve physics problems computationally.  There are many great resources for learning Python, several of which are linked at the end of this notebook, for further and more complete investigation.  \n",
    "\n",
    "</br>\n",
    "\n",
    "Physics in the modern day rarely involves solving problems with a pencil and paper. Instead, physicists are increasingly turning to computers to solve problems, so a modern physicist needs to have a good grasp of programming.  Computers are vastly more powerful than the human brain and can perform calculations faster than a physicist could ever do by hand.  This means that problems that are impossible to solve by hand can easily be done with a computer.  Computers are every day opening exciting new avenues of research in physics.  One of the aims of this physics immersion week is to give you a basic understanding of programming so you will feel confident tackling computational problems in the future.  Whether you are interested in studying experimental physics or theoretical physics, programming will be a common task for you moving forward in your physics career.\n",
    "\n",
    "</br>\n",
    "\n",
    "One of the most popular programming languages in physics currently is a language called Python. A programming language is a set of instructions (in words and symbols) that tell a computer what to do. \n",
    "\n",
    "</br>\n",
    "\n",
    "Python's popularity in the physics community comes from a few sources.  Python is often seen as a beginner's language because simpler to learn than other languages you may encounter such as C++ or Fortran.  This does not mean that Python is less powerful than other programming languages, however.  It just does a lot of stuff in the background to keep the user interface simple.  \n",
    "\n",
    "</br>\n",
    "\n",
    "Python also has a huge collection library with a variety of uses.  Think of a library as a set of code that someone else wrote that you can use in your own Python code.  Libraries will be covered near the end of this tutorial, and two popular ones will be explored in pre-course notebooks 2 and 3.  Python has libraries that make complex mathematical calculations easier, that enable the creation of publication ready graphs, and has some of the most advanced software in the fields of machine learning and quantum computing.  All these libraries make Python very useful to a physicist.  \n",
    "\n",
    "</br>\n",
    "\n",
    "Finally, Python has a very easy way to run its code in an interactive format called a Jupyter notebook (Colabatory is a online version of Jupyter).  You are reading this tutorial in either Colab or Jupyter.  This page is called a notebook and it allows you to run little chunks of Python code interactively and to add in text like this!  You will notice that this notebook is made up of different boxes.  There are two types of boxes on this page (called cells).  There are text boxes (like this one) that just display whatever you want to type in them.  There are also code cells which contain code that can be run on command.\n",
    "\n",
    "</br>\n",
    "\n",
    "Before we start learning Python, first we need to cover two basic concepts for using a notebook.  First is adding a new cell (either text or code) and the second is how to run a cell.\n",
    "\n",
    "### Adding New Cells\n",
    "\n",
    "* **Jupyter Notebook**: Click the plus sign in the upper left-hand corner.  This will add a code cell under the current cell (make sure you click on this cell first).  To change it to a text cell, click the dropdown menu in the middle of the toolbar that says 'Code' and change it to 'Markdown'.  Markdown is a language that allows you to write simple formatted text.  You can read more about Markdown [here](https://www.markdownguide.org/cheat-sheet/).  All Markdown syntax will work in a Jupyter text cell.\n",
    "* **Colab**: There are two add buttons in the upper left-hand corner.  One for a code cell and the other for a text cell.  These buttons will add a new cell of the selected type under the current cell (click on this cell to add a cell under it).  Colab text cells also work with the Markdown syntax.\n",
    "\n",
    "### Running Cells\n",
    "\n",
    "* **Jupyter Notebook**: You can run both a text cell and a code cell by selecting the cell (clicking on it) and pressing `Shift+Enter`.\n",
    "* **Colab**: You can also use the `Shift+Enter` method for Colab.  Code cells in Colab notebooks can also be ran using the play button on the left-hand side of the cell.\n",
    "\n",
    "</br>\n",
    "\n",
    "**EXERCISE 1**: Add a code cell below this one.  Type something in using Markdown syntax and run the text cell.\n",
    "\n",
    "\n",
    "**WARNING:**. Every time you come to a code cell, make sure you run it using your preferred method.  Some code cells depend on a previous code cell having been run and if this is not the case then it can cause an error."
   ]
  },
  {
   "cell_type": "markdown",
   "metadata": {
    "id": "fa_oTpB73M4K"
   },
   "source": [
    "## Print Statements and Variables\n",
    "\n",
    "### Print Statements\n",
    "\n",
    "One of the most important things to know how to do is make a computer display something.  In Python, we can do this using the `print` statement followed by a set of parentheses `()`.  The box below shows you how to print words using Python.  Anything that is typed between the single quotes (`'`) will be displayed.  In this case, we are displaying `Hello World`.  You can run the code by clicking the button to the left for Colab (looks like a Play button) for pressing `Shift+Enter` for both Jupyter and Colab.\n",
    "\n",
    "**EXERCISE 2:** Run the below code cell.\n"
   ]
  },
  {
   "cell_type": "code",
   "execution_count": null,
   "metadata": {
    "id": "LCiMlGwB6NSP"
   },
   "outputs": [],
   "source": [
    "print ('Hello World')"
   ]
  },
  {
   "cell_type": "markdown",
   "metadata": {
    "id": "z2zpGwyK6Srx"
   },
   "source": [
    "Making a programming language print `Hello World` is the first thing many programmers learn how to do when learning a new language.  This is an old tradition that many programmers stick to.  So, congratulations!  You just took your first step towards learning Python!"
   ]
  },
  {
   "cell_type": "markdown",
   "metadata": {
    "id": "WYVqNNec6kAs"
   },
   "source": [
    "In programming a bunch of letters grouped together using single quotes is called a _string_.  A string has to appear between single quotes (`'`) so that all of the letters are kept together.  The following are all examples of strings:\n",
    "* `'Hello World'`\n",
    "* `'Robots'`\n",
    "* `'J'` (even single letters can be strings!)\n",
    "* `My age is 24` (numbers can also be in a string!)"
   ]
  },
  {
   "cell_type": "markdown",
   "metadata": {
    "id": "kTG6Nf5Y6oU_"
   },
   "source": [
    "Python can also be used to display numbers.  However, for numbers you do not need to use the single quotes (`'`).    For example:"
   ]
  },
  {
   "cell_type": "code",
   "execution_count": null,
   "metadata": {
    "id": "A-sMhIol6rof"
   },
   "outputs": [],
   "source": [
    "print(2)\n",
    "\n",
    "print(45)"
   ]
  },
  {
   "cell_type": "markdown",
   "metadata": {
    "id": "Z00rOIRk6w-S"
   },
   "source": [
    "**EXERCISE 3:** Time to write your own code!  In the box below have Python display your name.  For example, I would type `print('Julie Butler')` in the box.  In the line below where you are printing your name, print your favorite number.  Then run the cell and make sure it prints what you tell it to!"
   ]
  },
  {
   "cell_type": "code",
   "execution_count": null,
   "metadata": {
    "id": "c1r34Q1X6xPQ"
   },
   "outputs": [],
   "source": []
  },
  {
   "cell_type": "markdown",
   "metadata": {
    "id": "nf0j0CaC67Mo"
   },
   "source": [
    "### Variables\n",
    "\n",
    "A variable in Python is a placeholder for a number or letters.  Strings (letters) must be between single quotes (`'`) but numbers are not.\n",
    "\n",
    "To create a variable, you must choose a name for your variable.  The variable name should be a word that describes what your variable is going to hold.  The more descriptive name the better.\n",
    "\n",
    "First, type your variable name.  Then type an equal sign.  Then on the right side of the equal sign type the value that your variable should hold."
   ]
  },
  {
   "cell_type": "code",
   "execution_count": null,
   "metadata": {
    "id": "kt3OZw197EIQ"
   },
   "outputs": [],
   "source": [
    "name = 'Julie'\n",
    "\n",
    "age = 25"
   ]
  },
  {
   "cell_type": "markdown",
   "metadata": {
    "id": "3UPbN5Fx7FEX"
   },
   "source": [
    "The value that is being held in a variable can be displayed using the print statement (just put the name of the variable between the parentheses of the print statement)."
   ]
  },
  {
   "cell_type": "code",
   "execution_count": null,
   "metadata": {
    "id": "5_RskyxM7GxI"
   },
   "outputs": [],
   "source": [
    "print(name)\n",
    "\n",
    "print(age)"
   ]
  },
  {
   "cell_type": "markdown",
   "metadata": {
    "id": "OPKKlg0n7K8V"
   },
   "source": [
    "Names for variables must start with a letter, but can also contain underscores `_`.  Typically, an underscore is used to separate words in a variable name.\n",
    "\n",
    "For example, if I want to make my variable names more descriptive I can use:"
   ]
  },
  {
   "cell_type": "code",
   "execution_count": null,
   "metadata": {
    "id": "vKaONnn67OhZ"
   },
   "outputs": [],
   "source": [
    "my_name = 'Julie'\n",
    "\n",
    "my_age = 25"
   ]
  },
  {
   "cell_type": "markdown",
   "metadata": {
    "id": "73XkKWPg7Ry7"
   },
   "source": [
    "Variable names can also contain numbers, just as long as the first letter of the name is a letter."
   ]
  },
  {
   "cell_type": "code",
   "execution_count": null,
   "metadata": {
    "id": "R8WhYLWr7UHJ"
   },
   "outputs": [],
   "source": [
    "my_age_2020 = 25"
   ]
  },
  {
   "cell_type": "markdown",
   "metadata": {
    "id": "Jlzej5Q07U4g"
   },
   "source": [
    "You can overwrite the value stored in a variable by setting it equal to a new value.  For example:"
   ]
  },
  {
   "cell_type": "code",
   "execution_count": null,
   "metadata": {
    "id": "kSUcOcUE7XKf"
   },
   "outputs": [],
   "source": [
    "name = 'Julie'\n",
    "\n",
    "print (name)\n",
    "\n",
    "name = 'Butler'\n",
    "\n",
    "print(name)"
   ]
  },
  {
   "cell_type": "markdown",
   "metadata": {
    "id": "cwrM0xnr7bA1"
   },
   "source": [
    "If you want to keep the values stored in your variables, make sure you are careful about not overwriting them.  Use unique variable names for each value you want to keep!"
   ]
  },
  {
   "cell_type": "markdown",
   "metadata": {
    "id": "XRm75yp87eIh"
   },
   "source": [
    "**EXERCISE 4:** Create two variables, one that contains a string and one that contains a number.  Display the value of each variable using a print statement."
   ]
  },
  {
   "cell_type": "code",
   "execution_count": null,
   "metadata": {
    "id": "s80v1y1w7emZ"
   },
   "outputs": [],
   "source": []
  },
  {
   "cell_type": "markdown",
   "metadata": {
    "id": "xN3QVVGT7kuX"
   },
   "source": [
    "### Advanced Printing\n",
    "\n",
    "\n",
    "To make your print statements more clear, you can combine strings and variables in print statements!  To do this you put both things you want to print inside the parentheses of the print statement (in the order you want them to print) and separate them with a comma.  For example:\n"
   ]
  },
  {
   "cell_type": "code",
   "execution_count": null,
   "metadata": {
    "id": "wMu5uWaF7nLX"
   },
   "outputs": [],
   "source": [
    "a = 3\n",
    "\n",
    "print('The value of a is', a)"
   ]
  },
  {
   "cell_type": "markdown",
   "metadata": {
    "id": "pnwUGQnL7qNh"
   },
   "source": [
    "You can also do this with more than one variable, you just need to have commas between the individual parts."
   ]
  },
  {
   "cell_type": "code",
   "execution_count": null,
   "metadata": {
    "id": "pL5vqmv37uLn"
   },
   "outputs": [],
   "source": [
    "a = 3\n",
    "b = 4\n",
    "\n",
    "print ('The value of a is', a, 'and the value of b is', b)"
   ]
  },
  {
   "cell_type": "markdown",
   "metadata": {
    "id": "n61ezlrD7xzy"
   },
   "source": [
    "**EXERCISE 5:** Create three variables.  These can contain any values you want.  Then, print out all three variables with descriptive strings to describe what is being printed.  You can use one print statement or three print statements.\n",
    "\n",
    "Remember to use descriptive variable names!"
   ]
  },
  {
   "cell_type": "code",
   "execution_count": null,
   "metadata": {
    "id": "ACo3p6vs7yBt"
   },
   "outputs": [],
   "source": []
  },
  {
   "cell_type": "markdown",
   "metadata": {
    "id": "yp67Q2nu-1Lf"
   },
   "source": [
    "## Comments\n",
    "\n",
    "A *comment* is a line in the code that Python ignores.  You can make a comment by adding a `#` to the beginning of a line.\n",
    "\n",
    "For example, in the following two lines of code, both `Robot` and `Code` will be printed."
   ]
  },
  {
   "cell_type": "code",
   "execution_count": null,
   "metadata": {
    "id": "mpybc2VA-5ts"
   },
   "outputs": [],
   "source": [
    "print('Robot')\n",
    "\n",
    "print('Code')"
   ]
  },
  {
   "cell_type": "markdown",
   "metadata": {
    "id": "JFghL1pw-8Bw"
   },
   "source": [
    "However, if I comment out the second line with a `#` then only `Robot` will print."
   ]
  },
  {
   "cell_type": "code",
   "execution_count": null,
   "metadata": {
    "id": "Kn7OjhJ0--c8"
   },
   "outputs": [],
   "source": [
    "print('Robot')\n",
    "\n",
    "#print('Code')"
   ]
  },
  {
   "cell_type": "markdown",
   "metadata": {
    "id": "9uMyBPRA_BqB"
   },
   "source": [
    "Comments are usually used to explain what your code does.  This is useful if someone else needs to look at your code, or when you come back to your code after not looking at it for awhile.\n",
    "\n",
    "For example, if I have the following code:"
   ]
  },
  {
   "cell_type": "code",
   "execution_count": null,
   "metadata": {
    "id": "eAa6lcqh_F59"
   },
   "outputs": [],
   "source": [
    "print('Julie')\n",
    "\n",
    "print(24)"
   ]
  },
  {
   "cell_type": "markdown",
   "metadata": {
    "id": "pIw4VZtm_HBj"
   },
   "source": [
    "I could add these comments to it to make the code make more sense when someone else is reading it."
   ]
  },
  {
   "cell_type": "code",
   "execution_count": null,
   "metadata": {
    "id": "bqZT99R8_Jh6"
   },
   "outputs": [],
   "source": [
    "# Displays my name\n",
    "print ('Julie')\n",
    "\n",
    "#Displays my age\n",
    "print(24)"
   ]
  },
  {
   "cell_type": "markdown",
   "metadata": {
    "id": "_YkEB-ha_ORZ"
   },
   "source": [
    "**EXERCISE 6:** In the box below, create your own code, and add a comment to explain what the code does."
   ]
  },
  {
   "cell_type": "code",
   "execution_count": null,
   "metadata": {
    "id": "W4_8v2MQ_Nit"
   },
   "outputs": [],
   "source": []
  },
  {
   "cell_type": "markdown",
   "metadata": {
    "id": "YTAE47iu5_JV"
   },
   "source": [
    "## Basic Math with Python\n",
    "\n",
    "Python can also be used to do math.  For example, I can type `2+2` in a print statement and it will print the result (`4`).\n",
    "\n"
   ]
  },
  {
   "cell_type": "code",
   "execution_count": null,
   "metadata": {
    "id": "5dyUNEUp9jyO"
   },
   "outputs": [],
   "source": [
    "print(2 + 2)"
   ]
  },
  {
   "cell_type": "markdown",
   "metadata": {
    "id": "oXkdJoJx9l9u"
   },
   "source": [
    "Variables can be used to hold the result of a mathematical expression.  For example:"
   ]
  },
  {
   "cell_type": "code",
   "execution_count": null,
   "metadata": {
    "colab": {
     "base_uri": "https://localhost:8080/"
    },
    "id": "X7VVnXsO9r_Q",
    "outputId": "8974f0b6-b60c-4d98-b684-db85f87eb6b8"
   },
   "outputs": [],
   "source": [
    "a = 2 + 2\n",
    "\n",
    "print(a)\n",
    "\n",
    "a = 2 - 2\n",
    "\n",
    "print(a)\n",
    "\n",
    "a = 2 * 2\n",
    "\n",
    "print(a)\n",
    "\n",
    "a = 2 / 2\n",
    "\n",
    "print(a)"
   ]
  },
  {
   "cell_type": "markdown",
   "metadata": {
    "id": "lnh7Q5Zt9vog"
   },
   "source": [
    "**EXERCISE 7:** In the cell below, have Python display the result to your own math expression."
   ]
  },
  {
   "cell_type": "code",
   "execution_count": null,
   "metadata": {
    "id": "5IW6kfak9v4d"
   },
   "outputs": [],
   "source": []
  },
  {
   "cell_type": "markdown",
   "metadata": {
    "id": "zSCFATqk9971"
   },
   "source": [
    "Variables can also be inserted into math expressions to change there value.  For example, to add two to the value stored in a variable you can do the following:"
   ]
  },
  {
   "cell_type": "code",
   "execution_count": null,
   "metadata": {
    "colab": {
     "base_uri": "https://localhost:8080/"
    },
    "id": "mc_A12Py-Uhq",
    "outputId": "2c0497be-dc85-4f96-9791-c5dab71d1bd8"
   },
   "outputs": [],
   "source": [
    "a = 3\n",
    "\n",
    "print (a)\n",
    "\n",
    "a = a + 2\n",
    "\n",
    "print(a)"
   ]
  },
  {
   "cell_type": "markdown",
   "metadata": {
    "id": "K0l26xtl-TQB"
   },
   "source": [
    "**EXERCISE 8:**. Take the variable i below and on a separate line change its value using a mathematical experession.  Print out the new value of i."
   ]
  },
  {
   "cell_type": "code",
   "execution_count": null,
   "metadata": {
    "id": "1TmIu1nF-cim"
   },
   "outputs": [],
   "source": [
    "i = 6"
   ]
  },
  {
   "cell_type": "markdown",
   "metadata": {
    "id": "bkW1rPN59fcL"
   },
   "source": [
    "## If Statements\n",
    "\n",
    "In programming an if statement is what is known as a _conditional statement_.  This means that it will only run if a certain condition is true.  An if statement has the following format:\n",
    "\n",
    "```\n",
    "if condition:\n",
    "    # This code runs if condition is true\n",
    "    Some code\n",
    "```\n",
    "\n",
    "An if statement always starts with the word `if`.  This tells Python that you are setting up an if statement.  Following the `if` is a condition, also known as a _boolean_.  This is a statement that is either true or false.  Examples of booleans include `100 < 1` (which is false) and `2 == 2` (which is true).  When creating a condition or boolean in which two values are compared to see if they are equal, a double equal sign is always used.\n",
    "\n",
    "Immediately after the condition of the if statement is a colon.  This tells Python that the condition is finished and it's time to move onto the code.  Note that the code below the if statement is indented.  In Python _whitespace_ (indents) are very important.  They must be there for the code to work properly.  Typically, one indents code using 4 spaces, but you can also use the Tab key or any number of spaces.  However, it is very important that you indent the same way each time (i.e., either the same number of spaces or use the Tab key).  Python will see an error if code is not properly indented and will not run.\n",
    "\n",
    "\n",
    "Now that we have gone over the basic structure of a Python if statement, lets create some!  The following are all examples of if statements.\n"
   ]
  },
  {
   "cell_type": "code",
   "execution_count": null,
   "metadata": {
    "id": "4HG951C6_yPb"
   },
   "outputs": [],
   "source": [
    "if 100 < 1:\n",
    "    print ('100 is less than 1')\n",
    "\n",
    "if 2 == 2:\n",
    "    print ('Two is equal to two')\n",
    "    print ('Remember to use double equal signs')\n",
    "\n",
    "if 'Julie' == 'Julie':\n",
    "    print ('We can also compare strings using the double equal sign')"
   ]
  },
  {
   "cell_type": "markdown",
   "metadata": {
    "id": "sGN-FfdJ_0Np"
   },
   "source": [
    "Note that only the code from the second two if statements prints.  This is because those two if statements contain true conditions while the condition of the first if statement is false.  This means that the code under the if statement does not run.\n",
    "\n",
    "Also note that multiple lines of code can be under an if statement, as long as all of the lines are indented.\n",
    "\n",
    "Below is a table of symbols that can be used to create conditions for if statements:\n",
    "\n",
    "|Operator|Meaning|\n",
    "|------|-------|\n",
    "|==|Equals|\n",
    "|!=|Not Equal To|\n",
    "|<|Less Than|\n",
    "|>|Greater Than|\n",
    "|<=|Less Than or Equal To|\n",
    "|>=|Greater Than or Equal To|\n",
    "\n"
   ]
  },
  {
   "cell_type": "markdown",
   "metadata": {
    "id": "0CPALII4_7KW"
   },
   "source": [
    "**EXERCISE 9:** Create two if statements, one with a true condition and one with a false condition. Each if statement should contain some code under the if statement, but this can do whatever you want (just remember to indent!)."
   ]
  },
  {
   "cell_type": "code",
   "execution_count": null,
   "metadata": {
    "id": "6onGXU_nxhBF"
   },
   "outputs": [],
   "source": []
  },
  {
   "cell_type": "markdown",
   "metadata": {
    "id": "joXSmnakGvJM"
   },
   "source": [
    "### And and Or Operators\n",
    "\n",
    "`and` and `or` are two operators which are used to join two separate conditions.  They are written like this:\n",
    "\n",
    "```python\n",
    "condition1 and condition2\n",
    "condition1 or condition2\n",
    "```\n",
    "\n",
    "These statements also return either True or False when evaluated, but in different ways.  A statement with an `and` is only True if both conditions are True and a statement with an `or` is True if one or both conditions are true.  The following code explores these two conditions.\n"
   ]
  },
  {
   "cell_type": "code",
   "execution_count": null,
   "metadata": {
    "colab": {
     "base_uri": "https://localhost:8080/"
    },
    "id": "NVnS39NFGj3v",
    "outputId": "f0941d46-3ca2-43ca-9eb9-8878285e31a4"
   },
   "outputs": [],
   "source": [
    "a = 2\n",
    "b = 3\n",
    "\n",
    "if a == b or a < b:\n",
    "    print(\"If Statement 1\")\n",
    "    print(\"a is equal to b OR a is less than b\")\n",
    "\n",
    "if a == 2 and b == 3:\n",
    "    print(\"If Statement 2\")\n",
    "    print(\"a is equal to 2 AND b is equal to 3\")"
   ]
  },
  {
   "cell_type": "markdown",
   "metadata": {
    "id": "jxca7jaAHCLl"
   },
   "source": [
    "**EXERCISE 10:** Change the code in the above statements so that both of the if conditions are false (i.e. none of the statements will print)."
   ]
  },
  {
   "cell_type": "markdown",
   "metadata": {
    "id": "mqp09270_rCd"
   },
   "source": [
    "## Else Statements\n",
    "\n",
    "`else` statements are similar to `if` statements, but with one important distinction.  An `if` statement can exist by itself but an `else` statement has to follow an `if` statement.  \n",
    "\n",
    "An else statement contains code that runs only if the condition in an if statement is false.\n",
    "\n",
    "```python\n",
    "if condition:\n",
    "    # This code runs if the condition is true\n",
    "    Some Code\n",
    "else:\n",
    "    # This code runs if the condition is false\n",
    "    Some Code\n",
    "```\n",
    "\n",
    "Let's look at some code to see how this works in practice:"
   ]
  },
  {
   "cell_type": "code",
   "execution_count": null,
   "metadata": {
    "id": "X4MsK5VjDqBM"
   },
   "outputs": [],
   "source": [
    "a = 50\n",
    "\n",
    "if a < 100:\n",
    "    print(\"a is less than 100\")\n",
    "else:\n",
    "    print(\"a is greater than or equal to 100\")"
   ]
  },
  {
   "cell_type": "markdown",
   "metadata": {
    "id": "dEMOMm1BEUvp"
   },
   "source": [
    "The value of a decides which print statement will trigger.  The below diagram pictorially represents how the above code works.\n",
    "\n",
    "![If/Else](https://www.tutorialspoint.com/python/images/if_else_statement.jpg)\n",
    "\n",
    "\n",
    "**EXERCISE 11:** Change the value of a in the above code cell to make the code under the else statement trigger.\n",
    "\n",
    "**EXERCISE 12:** Write an if/else statement of your own.  It can do anything you like.  Remember to use comments and descriptive variable names.\n",
    "\n"
   ]
  },
  {
   "cell_type": "code",
   "execution_count": null,
   "metadata": {
    "colab": {
     "base_uri": "https://localhost:8080/"
    },
    "id": "rwxJkZaUFa3P",
    "outputId": "74e79c3a-bf4a-4afc-ad0b-4bd15a06628a"
   },
   "outputs": [],
   "source": []
  },
  {
   "cell_type": "markdown",
   "metadata": {
    "id": "0d8FlRbuCTkp"
   },
   "source": [
    "## While Loops\n",
    "\n",
    "A while loop is very similar to an if statement in form and function except for one major difference.  The code under an if statement only runs once of the conditions is true.  In a while loop, as long as the condition is true the code under the while statement will continue to run (it loops!).  The form of a while loop looks like this:\n",
    "\n",
    "```python\n",
    "while condition:\n",
    "    # This code runs as long as the condition is true\n",
    "    Some Code\n",
    "```\n",
    "\n",
    "**WARNING:** Avoid infinite loops at all costs!  An infinite loop is a while loop that will continue to run forever.  When coding a while loop, make sure something in the code of the while loop will change the condition so that it will eventually be false.\n",
    "\n",
    "Below is a very simple while loop that is constructed so that the while loop condition will eventually become false:\n"
   ]
  },
  {
   "cell_type": "code",
   "execution_count": null,
   "metadata": {
    "colab": {
     "base_uri": "https://localhost:8080/"
    },
    "id": "73bM-eOI5Jzu",
    "outputId": "ec6a844f-5494-427a-ecce-3a15788bca24"
   },
   "outputs": [],
   "source": [
    "i = 0\n",
    "\n",
    "while i < 10:\n",
    "    print (i)\n",
    "    i = i + 1"
   ]
  },
  {
   "cell_type": "markdown",
   "metadata": {
    "id": "3AI8gmfI5P3H"
   },
   "source": [
    "The above while loop prints the current value of i and then adds one to the current value as long as i is less than 10.  Since 1 is added to the value of i every time and the condition of the while loop is based on the value of i being less than 10, the while loop will end after 10 interations.\n",
    "\n",
    "**EXERCISE 13:** Create your own while loop below.  It can do anything you like but make sure to use descriptive variable names and to add comments when useful.  Make sure to avoid making an infinite loop.  If this happens Colab has a stop button on the left of the code cell and Jupyter has a stop button on the top toolbar.  These buttons will stop the execution of the code immediately so you can change it."
   ]
  },
  {
   "cell_type": "code",
   "execution_count": null,
   "metadata": {
    "id": "1yjVjujGyIRY"
   },
   "outputs": [],
   "source": []
  },
  {
   "cell_type": "markdown",
   "metadata": {
    "id": "sutbieKC0zS-"
   },
   "source": [
    "## For Loops\n",
    "\n",
    "A for loop another type of loop which is similar to a while loop, but it has a different syntax and typically has different uses.  The set-up of a basic for loop looks like this:\n",
    "\n",
    "```python\n",
    "for variable in range(start, end):\n",
    "    #The code that loops is here\n",
    "    Some Code\n",
    "```\n",
    "\n",
    "It may also be useful to see an example if a for loop.  Let's create a for loop that does the same thing as the while loop in the previous section:\n",
    "\n"
   ]
  },
  {
   "cell_type": "code",
   "execution_count": null,
   "metadata": {
    "colab": {
     "base_uri": "https://localhost:8080/"
    },
    "id": "Ou6o38iu8SSh",
    "outputId": "c7a97a66-ed4c-4ca8-d13b-fc99fda18627"
   },
   "outputs": [],
   "source": [
    "for i in range(0, 10):\n",
    "    print(i)"
   ]
  },
  {
   "cell_type": "markdown",
   "metadata": {
    "id": "QI8UUXUP8N0z"
   },
   "source": [
    "The difference from a while loop is that a while loop can take any condition that evaluates as true or false, but a for loop forces you to use a condition that checks to see if a variable is within a certain range.  There are some other differences as well:\n",
    "* The variable in the for loop header (`i` in the above example) is created in that line and does not have to be made before hand.  For example, refer back to the while loop example where the variable `i` used in the while condition had to be created before the while loop statement.  In the for loop above `i` is created with an initial value of `0`, the first number in the `range` statement.\n",
    "* There are no lines of code in the above for loop to change the value of i, but it keeps increasing by one.  A for loop automatically increases the value of the variable it creates by 1 unless otherwise specified.  It will keep increasing the value of its variable until it is greater than or equal to the value of the second number in the `range` statement.\n",
    "\n",
    "While loops and for loops can be created to do the same thing in general, but in practice they are usually used in different contexts.  A while loop is normally used when it’s not known how many times the while loop will run and a for loop is used when the number of increments is known.  So, for the above examples for incrementing a variable between 0 and 9, a for loop would typically be used in practice.\n",
    "\n",
    "One last notes on for loops.  The variable that is created in the for loop statement can be incremented by more than 1 each time if wanted.  This can be done by a simple change in the `range` statement.  A third parameter can be added to the `range` statement to control how much is added to the variable each time.  For example, the below for loop increments i by 2 each time:\n"
   ]
  },
  {
   "cell_type": "code",
   "execution_count": null,
   "metadata": {
    "colab": {
     "base_uri": "https://localhost:8080/"
    },
    "id": "7fkvKP-f-NiV",
    "outputId": "bb73c393-1506-4178-d12b-e4cda9b24c9d"
   },
   "outputs": [],
   "source": [
    "for i in range (0, 20, 2):\n",
    "    print(i)"
   ]
  },
  {
   "cell_type": "markdown",
   "metadata": {
    "id": "06v0IshE-VGc"
   },
   "source": [
    "**EXERCISE 14:** Create a for loop that does anything you like.  Remember to use comments and descriptive variable names when useful and to avoid an infinite loop."
   ]
  },
  {
   "cell_type": "code",
   "execution_count": null,
   "metadata": {
    "id": "tl1zCgFS-VUF"
   },
   "outputs": [],
   "source": []
  },
  {
   "cell_type": "markdown",
   "metadata": {
    "id": "lqcZo4I_-hy7"
   },
   "source": [
    "**EXERCISE 15:** Take the for loop you created in exercise 14 and translate it to a while loop.  Then take the while loop you created in exercise 13 and translate it to a for loop."
   ]
  },
  {
   "cell_type": "code",
   "execution_count": null,
   "metadata": {
    "id": "-8i6wdxN-h9L"
   },
   "outputs": [],
   "source": []
  },
  {
   "cell_type": "code",
   "execution_count": null,
   "metadata": {
    "id": "h4mp-mkv-uEm"
   },
   "outputs": [],
   "source": []
  },
  {
   "cell_type": "markdown",
   "metadata": {
    "id": "VejQcf9R7HCZ"
   },
   "source": [
    "## Functions\n",
    "\n",
    "A _function_ is a collection of lines of code that can be accessed by a chosen keyword and used anywhere in a Python program after it is created.  Functions are especially useful when you have a piece of code that you are going to be reusing repeatedly.  It will save you from having to type that code many times.  In Python, a basic function has the following format:\n",
    "\n",
    "```python\n",
    "def function_name ():\n",
    "    # Some code goes here\n",
    "    Code I Want To Reuse\n",
    "```\n",
    "\n",
    "So for example, if I wanted to create a function that prints some information, I could do it like this:\n",
    "\n"
   ]
  },
  {
   "cell_type": "code",
   "execution_count": null,
   "metadata": {
    "id": "xSpbaJSpCOf_"
   },
   "outputs": [],
   "source": [
    "def information_about_me ():\n",
    "    print(\"My name is Julie.\")\n",
    "    print(\"I am a graduate student.\")\n",
    "    print(\"I attend Michigan State University.\")"
   ]
  },
  {
   "cell_type": "markdown",
   "metadata": {
    "id": "Ip9yfZezCXqH"
   },
   "source": [
    "So now anytime I want to print those three lines all I have to do is type the name of my function (`information_about_me`) and a set of parenthesis (`()`).  This will save me from having to retype these lines every time I need them and will prevent me from making errors by doing so."
   ]
  },
  {
   "cell_type": "code",
   "execution_count": null,
   "metadata": {
    "colab": {
     "base_uri": "https://localhost:8080/"
    },
    "id": "HqgjStTxCnD-",
    "outputId": "65d216ce-97db-47bb-947d-2a87f6bd9e6a"
   },
   "outputs": [],
   "source": [
    "information_about_me()"
   ]
  },
  {
   "cell_type": "markdown",
   "metadata": {
    "id": "KMZSGuCoDAnn"
   },
   "source": [
    "**EXERCISE 16:** Create a function in the first code cell below. It can do anything you like as long as you are using comments and descriptive variable names.  In the second code cell below _call_ your function by typing its name and a set of parentheses.  Make sure you run your first code cell before the second one!"
   ]
  },
  {
   "cell_type": "code",
   "execution_count": null,
   "metadata": {
    "id": "hnNtAeOwDH1u"
   },
   "outputs": [],
   "source": []
  },
  {
   "cell_type": "code",
   "execution_count": null,
   "metadata": {
    "id": "liPcPoyADAyk"
   },
   "outputs": [],
   "source": []
  },
  {
   "cell_type": "markdown",
   "metadata": {
    "id": "VGnx36smB9nA"
   },
   "source": [
    "### Return Statements\n",
    "\n",
    "Sometimes it is useful to get some information out of a function.  Functions are usually used to perform calculations, so it would be nice to use the result of that calculation.  Information is extracted from a function using a return statement.  The layout of a function with a return statement looks like this:\n",
    "\n",
    "```python\n",
    "def function_name ():\n",
    "    # The code for the function\n",
    "    Some Code Here\n",
    "    return variable_name\n",
    "```\n",
    "\n",
    "A function returns values using the name of a variable.  For example, I can write a function that returns a number like this:\n",
    "\n"
   ]
  },
  {
   "cell_type": "code",
   "execution_count": null,
   "metadata": {
    "id": "McjVber5ELkI"
   },
   "outputs": [],
   "source": [
    "def give_me_a_number ():\n",
    "    a = 5\n",
    "    return a"
   ]
  },
  {
   "cell_type": "markdown",
   "metadata": {
    "id": "buaemlw8EP14"
   },
   "source": [
    "Now, if I want to get the number that my function returns, I can do the following:"
   ]
  },
  {
   "cell_type": "code",
   "execution_count": null,
   "metadata": {
    "colab": {
     "base_uri": "https://localhost:8080/"
    },
    "id": "FZXHC5qZEquO",
    "outputId": "cc79ee00-9034-4018-e391-79209f858d4e"
   },
   "outputs": [],
   "source": [
    "print(give_me_a_number ())"
   ]
  },
  {
   "cell_type": "markdown",
   "metadata": {
    "id": "UNmf7dayExGL"
   },
   "source": [
    "Though, printing a the return value of a function is not always very useful.  I can also save the return value using a variable:"
   ]
  },
  {
   "cell_type": "code",
   "execution_count": null,
   "metadata": {
    "colab": {
     "base_uri": "https://localhost:8080/"
    },
    "id": "YcyMH_W_E6iw",
    "outputId": "7aada4ba-cd56-4992-c1b7-acc2a076da22"
   },
   "outputs": [],
   "source": [
    "my_number = give_me_a_number()\n",
    "\n",
    "print(\"My number is\", my_number)"
   ]
  },
  {
   "cell_type": "markdown",
   "metadata": {
    "id": "cFBYtep2FD14"
   },
   "source": [
    "**EXERCISE 17:** In the first code cell below create a function that does anything you like, as long as it returns some value.  In the second code cell, call the function and save its return value in a variable.  Finally, print the value of the variable and make sure its the same thing your function returned."
   ]
  },
  {
   "cell_type": "code",
   "execution_count": null,
   "metadata": {
    "id": "pWTKJb5oFPi_"
   },
   "outputs": [],
   "source": []
  },
  {
   "cell_type": "code",
   "execution_count": null,
   "metadata": {
    "id": "vOWZSvKaFEDD"
   },
   "outputs": [],
   "source": []
  },
  {
   "cell_type": "markdown",
   "metadata": {
    "id": "CQ5B3uA5EKiN"
   },
   "source": [
    "### Arguments\n",
    "\n",
    "In addition to getting information from a function, sometimes you may want to give a function some inputs to do stuff with.  These inputs are called the arguments of the function, and they are placed between the parentheses on the first line of the function.\n",
    "\n",
    "```python\n",
    "def function_name (arguments):\n",
    "    # The code for the function\n",
    "    Some Code Here\n",
    "    return variable_name\n",
    "```\n",
    "\n",
    "Arguments and return statements are often used in conjunction to make very useful pieces of code!\n",
    "\n",
    "A very simple function with all the above pieces is shown below.  A function can have as many arguments between the parenthesis as it wants as long as they are separated with commas.  Likewise, it can also have many returned values as long as they are separated with commas.\n"
   ]
  },
  {
   "cell_type": "code",
   "execution_count": null,
   "metadata": {
    "colab": {
     "base_uri": "https://localhost:8080/"
    },
    "id": "lwSI4Sp4HcNt",
    "outputId": "22baf40e-b475-44da-f8e6-f6fbacfb8bb0"
   },
   "outputs": [],
   "source": [
    "# Create the function\n",
    "def two_number_math (number1, number2):\n",
    "    add = number1+number2\n",
    "    subtract = number1-number2\n",
    "    multiply = number1*number2\n",
    "    divide = number1/number2\n",
    "    return add, subtract, multiply, divide\n",
    "\n",
    "# Use the function\n",
    "add, subtract, multiply, divide = two_number_math (2,3)\n",
    "print(add, subtract, multiply, divide)"
   ]
  },
  {
   "cell_type": "markdown",
   "metadata": {
    "id": "wwptGEiUH3HK"
   },
   "source": [
    "**EXERCISE 18:** Create a function that has at least one argument and one return value.  It can do anything you like.  Make sure to use descriptive variable names and comments when needed.  Finally, test your function below where you created it to make sure it functions as intended."
   ]
  },
  {
   "cell_type": "code",
   "execution_count": null,
   "metadata": {
    "id": "P_v3qoE7H3Sh"
   },
   "outputs": [],
   "source": []
  },
  {
   "cell_type": "markdown",
   "metadata": {
    "id": "XBTYbLPYFmYd"
   },
   "source": [
    "### Docstrings\n",
    "\n",
    "One final useful piece of a function is called a docstring.  A docstring is a comment that is placed right under the function header (the first line starting with `def`) that describes the arguments of the function, the return values of the function, and what the function does.  Docstrings are very useful when you will be sharing your code with others because it describes briefly what your function does so someone does not have to read all the way through your code.  A docstring is added to a function structure like this (note that it does not use `#` to make a comment but rather a set of `\"\"\"`):\n",
    "\n",
    "```python\n",
    "def function_name (arguments):\n",
    "    \"\"\"\n",
    "        Arguments:\n",
    "            .......\n",
    "        Returns:\n",
    "            .......\n",
    "        This function does ......\n",
    "    \"\"\"\n",
    "    # The code of the function\n",
    "    Some Code Here\n",
    "    return variable_name\n",
    "```"
   ]
  },
  {
   "cell_type": "markdown",
   "metadata": {
    "id": "cv951dDaJfOV"
   },
   "source": [
    "If I wanted to add a docstring to my `give_me_a_number` function from earlier I would do the following:"
   ]
  },
  {
   "cell_type": "code",
   "execution_count": null,
   "metadata": {
    "id": "vDnxG4yUJl42"
   },
   "outputs": [],
   "source": [
    "def give_me_a_number ():\n",
    "    \"\"\"\n",
    "        Arguments:\n",
    "            None.\n",
    "        Returns:\n",
    "            a: a number\n",
    "        Returns the number 5, which is stored in the variable a.\n",
    "    \"\"\"\n",
    "    a = 5\n",
    "    return a"
   ]
  },
  {
   "cell_type": "markdown",
   "metadata": {
    "id": "AIokqzSPJxZu"
   },
   "source": [
    "**EXERCISE 19:** Return to the function you created in Exercise 18 and add a descriptive docstring that tells what the arguments and return values are and what the function does."
   ]
  },
  {
   "cell_type": "markdown",
   "metadata": {
    "id": "QhJtTiYSEv17"
   },
   "source": [
    "\n",
    "\n",
    "## Using Libraries\n",
    "\n",
    "As mentioned earlier in this tutorial, a Python library is a collection of code that someone else has written that you can use in your own programs.  One useful library in Python is called `math`, which allows you to use many useful mathematical functions like square root and the exponential function.  For a full listing of the math library's capabilities, see [this link](https://docs.python.org/3/library/math.html).  \n",
    "\n",
    "Before a library can be used in a Python program, it needs to be _imported_.  An import statement is very simple and usually is found at the type of a Python file or in the first code cell of a notebook.  But since we are just now using a library, let's just import it here.  There are four different ways to import a library, and the next four code cells will show you the different ways.\n",
    "\n"
   ]
  },
  {
   "cell_type": "code",
   "execution_count": null,
   "metadata": {
    "colab": {
     "base_uri": "https://localhost:8080/"
    },
    "id": "c-M6JJ7YT6xi",
    "outputId": "79dc5dde-1032-426d-c587-c153bbf14477"
   },
   "outputs": [],
   "source": [
    "# First, the most basic: import library name\n",
    "\n",
    "import math\n",
    "\n",
    "# This one is not very common because to use any of the functions in \n",
    "# the library you have to type the full library name.  For example:\n",
    "# (Check the above link for the correct syntax for square root)\n",
    "\n",
    "print(math.sqrt(2))"
   ]
  },
  {
   "cell_type": "code",
   "execution_count": null,
   "metadata": {
    "colab": {
     "base_uri": "https://localhost:8080/"
    },
    "id": "xgskKWekUQJ_",
    "outputId": "1cb2367d-0468-4d23-b1f2-81de93dd7375"
   },
   "outputs": [],
   "source": [
    "# Second, we can import the library and give it a shorter nickname.  \n",
    "# We use the word \"as\" for this\n",
    "\n",
    "import math as m\n",
    "\n",
    "print(m.sqrt(2))"
   ]
  },
  {
   "cell_type": "code",
   "execution_count": null,
   "metadata": {
    "colab": {
     "base_uri": "https://localhost:8080/"
    },
    "id": "qO6UyadoUsPz",
    "outputId": "d3bff35d-8bc4-40b0-d54d-55556966c299"
   },
   "outputs": [],
   "source": [
    "# Third, we can just import certain functions, the ones we are going to \n",
    "# use.  This eliminates the need to the library name prefix.  Here we \n",
    "# need to use the word \"from\"\n",
    "\n",
    "from math import sqrt\n",
    "\n",
    "print(sqrt(2))\n",
    "\n",
    "# The only problem with this method is that we are limited to only the\n",
    "# function we import in the first line.  The previous two methods would\n",
    "# allow us to use any function in the math library."
   ]
  },
  {
   "cell_type": "code",
   "execution_count": null,
   "metadata": {
    "colab": {
     "base_uri": "https://localhost:8080/"
    },
    "id": "PjFtNcK1VKju",
    "outputId": "1bf80565-08f2-46da-def0-7847aadbf4d2"
   },
   "outputs": [],
   "source": [
    "# Finally, we can use the \"from\" syntax but after the word \"import\" type\n",
    "# a \"*\".  A star is a wildcard in Python and it basically means import\n",
    "# everything from the library.  We also do not have to use a prefix with\n",
    "# this method.\n",
    "\n",
    "from math import *\n",
    "\n",
    "print(sqrt(2))"
   ]
  },
  {
   "cell_type": "markdown",
   "metadata": {
    "id": "oFtCeYIwVmR7"
   },
   "source": [
    "**EXERCISE 20:** On the first line of the cell below type your preferred way to import the math library.  Then use the math library to find the ceiling of 1.45 and the cosine of pi (the entire value of pi, not an approximation.  Hint, check the constants section of the math library documentation)."
   ]
  },
  {
   "cell_type": "code",
   "execution_count": null,
   "metadata": {
    "id": "E7KhZ75vVqMQ"
   },
   "outputs": [],
   "source": []
  },
  {
   "cell_type": "markdown",
   "metadata": {
    "id": "vEc3xKVpKisO"
   },
   "source": [
    "## Resources for Further Investigation\n",
    "\n",
    "This was a very brief overview of some of the important aspects of the Python programming language.  However, don't stop here, especially as a beginner.  The more you can learn about and practice programming the better your programming skills will be.  The internet is full of great Python resources.  These are just a few that I have gathered for your convenience.\n",
    "\n",
    "* [A longer set of tutorials in the same format as this one](https://uio-ccse.github.io/algoritmisk-tenkning-humanister/intro.html).  You can download the individual notebooks with the button on the top right and open them in Jupyter if you want to edit the code.\n",
    "* [A more in-depth set of Python tutorials from the developers of the language](https://docs.python.org/3/tutorial/)\n",
    "* [Tutorials on Jupyter notebooks](https://www.datacamp.com/community/tutorials/tutorial-jupyter-notebook)\n",
    "* [Tutorials on Colab notebooks](https://colab.research.google.com/notebooks/intro.ipynb?utm_source=scs-index) (Click cancel on the file explorer if it pops up)\n",
    "* [Documentation for the math library](https://docs.python.org/3/library/math.html)\n",
    "* [A set of YouTube videos for learning Python](https://www.youtube.com/watch?v=QXeEoD0pB3E&list=PLsyeobzWxl7poL9JTVyndKe62ieoN-MZ3)\n"
   ]
  },
  {
   "cell_type": "code",
   "execution_count": null,
   "metadata": {
    "id": "TQhA2v9W0BTU"
   },
   "outputs": [],
   "source": []
  }
 ],
 "metadata": {
  "colab": {
   "name": "IntroductionToScientificPython.ipynb",
   "provenance": []
  },
  "kernelspec": {
   "display_name": "Python 3",
   "language": "python",
   "name": "python3"
  },
  "language_info": {
   "codemirror_mode": {
    "name": "ipython",
    "version": 3
   },
   "file_extension": ".py",
   "mimetype": "text/x-python",
   "name": "python",
   "nbconvert_exporter": "python",
   "pygments_lexer": "ipython3",
   "version": "3.9.2"
  }
 },
 "nbformat": 4,
 "nbformat_minor": 1
}
